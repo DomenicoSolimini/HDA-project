{
 "cells": [
  {
   "cell_type": "code",
   "execution_count": 6,
   "metadata": {},
   "outputs": [],
   "source": [
    "from keras.layers import Input, Dense \n",
    "# from keras.layers import Dropout, BatchNormalization, Reshape\n",
    "from keras.models import Model\n",
    "#from keras.regularizers import l2\n",
    "from keras.utils import plot_model\n",
    "from keras.callbacks import EarlyStopping\n",
    "# from sklearn.model_selection import train_test_split\n",
    "import pickle\n",
    "import numpy as np\n",
    "#import seaborn as sns\n",
    "import matplotlib.pyplot as plt\n",
    "import os\n",
    "# from mpl_toolkits.mplot3d import Axes3D"
   ]
  },
  {
   "cell_type": "code",
   "execution_count": 7,
   "metadata": {},
   "outputs": [],
   "source": [
    "PATH = '/Users/federicomatteo/Downloads/track_all_correct/'\n",
    "#PATH = './all_tracks/'\n",
    "SHAPE = (496, 3)"
   ]
  },
  {
   "cell_type": "code",
   "execution_count": 8,
   "metadata": {},
   "outputs": [],
   "source": [
    "def import_data(data_path, shape=None, axis=0):\n",
    "    \"\"\"\n",
    "    Import data stored in a folder identified by its path.\n",
    "    Return a numpy array containing all the array present in the folder of specified shape \n",
    "    stacked along the specified axis. If shape is None, the shape of the first element is used.\n",
    "    \"\"\"\n",
    "    # Init container\n",
    "    MyData = []\n",
    "    # Save in a list all files present in the folder\n",
    "    DirList = os.listdir(data_path)\n",
    "    \n",
    "    # Set the shape variable\n",
    "    if shape == None:\n",
    "        shape = np.load(data_path + DirList[0]).shape\n",
    "    \n",
    "    #\n",
    "    for j in range(len(DirList)):\n",
    "        data = np.load(data_path + DirList[j])\n",
    "        if data.shape == shape:\n",
    "            MyData.append(data)\n",
    "        else:\n",
    "            print('MyData[{}] has invalid shape {}'.format(j, data.shape))\n",
    "    \n",
    "    # Stack togheter all the arrays\n",
    "    data = np.stack(MyData, axis = axis)\n",
    "        \n",
    "    return data\n",
    "\n",
    "\n",
    "\n",
    "def train_val_test_split(data, train=0.7, val=0.2):\n",
    "    \"\"\"\n",
    "    Takes in input an array formatted as (num sequences x dim1 x dim2).\n",
    "    \"\"\"\n",
    "    # Get the total sequences number\n",
    "    n_sequences = data.shape[0]\n",
    "    \n",
    "    # Set indexes to divide the sets\n",
    "    train_ind = int(n_sequences*train)\n",
    "    val_ind = train_ind + int(n_sequences*val)\n",
    "    \n",
    "    return data[:train_ind], data[train_ind:val_ind], data[val_ind:]\n",
    "\n",
    "\n",
    "\n",
    "def split(data, width=15, stride=5):\n",
    "    \"\"\"\n",
    "    Divide the sequences stored in input array in frame of assigned width shifted of 'stride'. \n",
    "    Return the frames stacked in a new array. If stride equals width, no overlap is created.\n",
    "    \"\"\"\n",
    "    # Get tracks lenght\n",
    "    track_len = data.shape[1]\n",
    "    \n",
    "    data_ = [data[:, start:start+width, :] for start in range(0, track_len-width+1, stride)]\n",
    "    return np.concatenate(data_, axis=0)\n",
    "\n",
    "\n",
    "\n",
    "def merge(data, width=15, stride=5): # DA CORREGGERE!!!\n",
    "    \"\"\"\n",
    "    Perform the inverse respect to split(). In case of overlapping return the average of the overlapping values.\n",
    "    \"\"\"\n",
    "    assert stride <= width, \"Not defined values when merging frames\"\n",
    "    \n",
    "    data_list = data[0,:,:,:]\n",
    "    for i in range(1, prova.shape[0]):\n",
    "        data_list = np.concatenate((data_list, prova[i,:,:,:]), axis = 0)\n",
    "    return data_new\n",
    "\n",
    "\n",
    "\n",
    "def min_max_scale(data):\n",
    "    \"\"\"\n",
    "    Scale separately each component. Data has shape [num_frames, frame_width, num_components].\n",
    "    \"\"\"\n",
    "    # Keep the number of time instants\n",
    "    frame_width = data.shape[1]\n",
    "    \n",
    "    # Compute separately min and max for each component\n",
    "    min_, max_ = data.min(axis=1), data.max(axis=1)\n",
    "\n",
    "    # Broadcast min_ and max_ array to the shape of data\n",
    "    min_ = np.stack([np.tile(x, (frame_width, 1)) for x in min_])\n",
    "    max_ = np.stack([np.tile(x, (frame_width, 1)) for x in max_])\n",
    "\n",
    "    # Return normalized data\n",
    "    return (data - min_) / (max_ - min_)\n",
    "\n",
    "\n",
    "\n",
    "def test_track(data, model, track_index, frame_width):\n",
    "    \"\"\"\n",
    "    Select one track and compute the denoised version using the specified model\n",
    "    \"\"\"\n",
    "    # Select only one track and add a supplementary dimension on the first axis\n",
    "    data = np.expand_dims(data[track_index], axis=0)\n",
    "    # Split data without overlap (with equals stride)\n",
    "    splitted_data = split(data, width=frame_width, stride=15)\n",
    "    # Compute the predicted data for each splitted frame\n",
    "    predicted_data = model.predict(np.expand_dims(splitted_data, axis=3)).squeeze()\n",
    "    \n",
    "    # Concatenate the frames and return the array\n",
    "    return(np.concatenate([frame for frame in predicted_data]))\n",
    "\n",
    "\n",
    "\n",
    "# split a list of arrays\n",
    "split_list = lambda lista: [split(x) for x in lista]\n",
    "scale_list = lambda data: [min_max_scale(x) for x in data]"
   ]
  },
  {
   "cell_type": "code",
   "execution_count": 75,
   "metadata": {},
   "outputs": [
    {
     "name": "stdout",
     "output_type": "stream",
     "text": [
      "Model: \"model_9\"\n",
      "_________________________________________________________________\n",
      "Layer (type)                 Output Shape              Param #   \n",
      "=================================================================\n",
      "input_14 (InputLayer)        (None, 14, 3, 1)          0         \n",
      "_________________________________________________________________\n",
      "flatten_13 (Flatten)         (None, 42)                0         \n",
      "_________________________________________________________________\n",
      "dense_16 (Dense)             (None, 3)                 129       \n",
      "_________________________________________________________________\n",
      "reshape_18 (Reshape)         (None, 1, 3, 1)           0         \n",
      "=================================================================\n",
      "Total params: 129\n",
      "Trainable params: 129\n",
      "Non-trainable params: 0\n",
      "_________________________________________________________________\n"
     ]
    }
   ],
   "source": [
    "from keras.layers import Conv1D, Conv2D, MaxPooling1D, UpSampling1D, Flatten, Reshape\n",
    "from keras.layers import MaxPooling2D, UpSampling2D, Conv2DTranspose\n",
    "\n",
    "# -- CNN architecture\n",
    "# This is the input placeholder\n",
    "input_seq = Input(shape=(14, 3, 1))\n",
    "\n",
    "\n",
    "X = Flatten()(input_seq)\n",
    "\n",
    "\n",
    "#encoded = Dense(10, activation='tanh')(X)\n",
    "\n",
    "#X = Dense(, activation='tanh')(encoded)\n",
    "\n",
    "#X = Reshape((10, 1, 1,))(encoded)\n",
    "\n",
    "#X = UpSampling2D(size=(2,1))(X)\n",
    "\n",
    "#decoded = Conv2DTranspose(filters = 1, kernel_size = [4,3], padding='valid', activation='tanh', strides=1)(X)\n",
    "\n",
    "decoded = Dense(3, activation='tanh')(X)\n",
    "\n",
    "decoded = Reshape((1, 3, 1,))(decoded)\n",
    "\n",
    "# This model maps an input to its reconstruction (hopefully denoised)\n",
    "autoencoder = Model(input_seq, decoded)\n",
    "\n",
    "autoencoder.compile(optimizer='Nadam', loss= \"mean_absolute_error\")\n",
    "\n",
    "\n",
    "# Print architecture information\n",
    "autoencoder.summary()\n",
    "# plot_model(autoencoder, show_shapes=True, to_file='FFNN.png', rankdir='LR', show_layer_names=False) #TB o LR"
   ]
  },
  {
   "cell_type": "code",
   "execution_count": 76,
   "metadata": {},
   "outputs": [
    {
     "name": "stdout",
     "output_type": "stream",
     "text": [
      "MyData[78] has invalid shape (459, 3)\n",
      "Train set shape \t (26992, 15, 3)\n",
      "Validation set shape \t (7712, 15, 3)\n"
     ]
    },
    {
     "data": {
      "text/plain": [
       "[<matplotlib.lines.Line2D at 0x12c0eab10>]"
      ]
     },
     "execution_count": 76,
     "metadata": {},
     "output_type": "execute_result"
    },
    {
     "data": {
      "image/png": "[encoded data removed]",
      "text/plain": [
       "<Figure size 432x288 with 1 Axes>"
      ]
     },
     "metadata": {
      "needs_background": "light"
     },
     "output_type": "display_data"
    }
   ],
   "source": [
    "# Load data\n",
    "data = import_data(data_path=PATH, shape=SHAPE)\n",
    "# Split and scale data\n",
    "x_train, x_val, x_test = scale_list(train_val_test_split(data))\n",
    "\n",
    "x_train = split(x_train, width=15, stride=1)\n",
    "print('Train set shape \\t', x_train.shape)\n",
    "\n",
    "x_val = split(x_val, width=15, stride=1)\n",
    "print('Validation set shape \\t', x_val.shape)\n",
    "\n",
    "#x_test = split(x_test, width=15, stride=5)\n",
    "#print('Test set shape \\t', x_test.shape)\n",
    "\n",
    "\n",
    "plt.plot(data[3,:,2])"
   ]
  },
  {
   "cell_type": "code",
   "execution_count": 79,
   "metadata": {},
   "outputs": [],
   "source": [
    "def TrainData(x_train, x_val, model):\n",
    "    es = EarlyStopping(monitor='val_loss', mode='min', verbose=1, patience=5)\n",
    "    \n",
    "    input_train = x_train[:,:14,:].reshape(x_train.shape[0], 14, 3, 1)\n",
    "    output_train = x_train[:,14,:].reshape(x_train.shape[0], 1, 3, 1)\n",
    "    \n",
    "    input_val = x_val[:,:14,:].reshape(x_val.shape[0], 14, 3, 1)\n",
    "    output_val = x_val[:,14,:].reshape(x_val.shape[0], 1, 3, 1)\n",
    "    history = model.fit(input_train, output_train,\n",
    "                    epochs= 250,\n",
    "                    steps_per_epoch = 100,\n",
    "                    shuffle = True,\n",
    "                    batch_size=None,\n",
    "                    validation_data=(input_val, output_val),\n",
    "                    callbacks = [es],\n",
    "                    validation_steps = 1\n",
    "                   )\n",
    "    return history"
   ]
  },
  {
   "cell_type": "code",
   "execution_count": 80,
   "metadata": {},
   "outputs": [
    {
     "name": "stdout",
     "output_type": "stream",
     "text": [
      "Train on 26992 samples, validate on 7712 samples\n",
      "Epoch 1/50\n",
      "100/100 [==============================] - 0s 4ms/step - loss: 0.0412 - val_loss: 0.0419\n",
      "Epoch 2/50\n",
      "100/100 [==============================] - 0s 4ms/step - loss: 0.0407 - val_loss: 0.0416\n",
      "Epoch 3/50\n",
      "100/100 [==============================] - 0s 3ms/step - loss: 0.0404 - val_loss: 0.0412\n",
      "Epoch 4/50\n",
      "100/100 [==============================] - 0s 3ms/step - loss: 0.0401 - val_loss: 0.0408\n",
      "Epoch 5/50\n",
      "100/100 [==============================] - 0s 3ms/step - loss: 0.0398 - val_loss: 0.0405\n",
      "Epoch 6/50\n",
      "100/100 [==============================] - 0s 3ms/step - loss: 0.0395 - val_loss: 0.0403\n",
      "Epoch 7/50\n",
      "100/100 [==============================] - 0s 3ms/step - loss: 0.0393 - val_loss: 0.0400\n",
      "Epoch 8/50\n",
      "100/100 [==============================] - 0s 3ms/step - loss: 0.0390 - val_loss: 0.0398\n",
      "Epoch 9/50\n",
      "100/100 [==============================] - 0s 3ms/step - loss: 0.0389 - val_loss: 0.0396\n",
      "Epoch 10/50\n",
      "100/100 [==============================] - 0s 3ms/step - loss: 0.0387 - val_loss: 0.0393\n",
      "Epoch 11/50\n",
      "100/100 [==============================] - 0s 3ms/step - loss: 0.0385 - val_loss: 0.0394\n",
      "Epoch 12/50\n",
      "100/100 [==============================] - 0s 3ms/step - loss: 0.0384 - val_loss: 0.0388\n",
      "Epoch 13/50\n",
      "100/100 [==============================] - 0s 3ms/step - loss: 0.0381 - val_loss: 0.0387\n",
      "Epoch 14/50\n",
      "100/100 [==============================] - 0s 3ms/step - loss: 0.0379 - val_loss: 0.0385\n",
      "Epoch 15/50\n",
      "100/100 [==============================] - 0s 3ms/step - loss: 0.0381 - val_loss: 0.0385\n",
      "Epoch 16/50\n",
      "100/100 [==============================] - 0s 3ms/step - loss: 0.0378 - val_loss: 0.0388\n",
      "Epoch 17/50\n",
      "100/100 [==============================] - 0s 3ms/step - loss: 0.0377 - val_loss: 0.0383\n",
      "Epoch 18/50\n",
      "100/100 [==============================] - 0s 3ms/step - loss: 0.0376 - val_loss: 0.0382\n",
      "Epoch 19/50\n",
      "100/100 [==============================] - 0s 3ms/step - loss: 0.0375 - val_loss: 0.0381\n",
      "Epoch 20/50\n",
      "100/100 [==============================] - 0s 3ms/step - loss: 0.0374 - val_loss: 0.0381\n",
      "Epoch 21/50\n",
      "100/100 [==============================] - 0s 3ms/step - loss: 0.0373 - val_loss: 0.0379\n",
      "Epoch 22/50\n",
      "100/100 [==============================] - 0s 3ms/step - loss: 0.0372 - val_loss: 0.0378\n",
      "Epoch 23/50\n",
      "100/100 [==============================] - 0s 3ms/step - loss: 0.0371 - val_loss: 0.0378\n",
      "Epoch 24/50\n",
      "100/100 [==============================] - 0s 3ms/step - loss: 0.0370 - val_loss: 0.0377\n",
      "Epoch 25/50\n",
      "100/100 [==============================] - 0s 3ms/step - loss: 0.0370 - val_loss: 0.0377\n",
      "Epoch 26/50\n",
      "100/100 [==============================] - 0s 3ms/step - loss: 0.0369 - val_loss: 0.0376\n",
      "Epoch 27/50\n",
      "100/100 [==============================] - 0s 3ms/step - loss: 0.0368 - val_loss: 0.0375\n",
      "Epoch 28/50\n",
      "100/100 [==============================] - 0s 3ms/step - loss: 0.0368 - val_loss: 0.0375\n",
      "Epoch 29/50\n",
      "100/100 [==============================] - 0s 3ms/step - loss: 0.0367 - val_loss: 0.0374\n",
      "Epoch 30/50\n",
      "100/100 [==============================] - 0s 3ms/step - loss: 0.0366 - val_loss: 0.0373\n",
      "Epoch 31/50\n",
      "100/100 [==============================] - 0s 3ms/step - loss: 0.0367 - val_loss: 0.0376\n",
      "Epoch 32/50\n",
      "100/100 [==============================] - 0s 3ms/step - loss: 0.0366 - val_loss: 0.0373\n",
      "Epoch 33/50\n",
      "100/100 [==============================] - 0s 3ms/step - loss: 0.0365 - val_loss: 0.0372\n",
      "Epoch 34/50\n",
      "100/100 [==============================] - 0s 3ms/step - loss: 0.0365 - val_loss: 0.0372\n",
      "Epoch 35/50\n",
      "100/100 [==============================] - 0s 3ms/step - loss: 0.0364 - val_loss: 0.0372\n",
      "Epoch 36/50\n",
      "100/100 [==============================] - 0s 3ms/step - loss: 0.0364 - val_loss: 0.0372\n",
      "Epoch 37/50\n",
      "100/100 [==============================] - 0s 3ms/step - loss: 0.0363 - val_loss: 0.0370\n",
      "Epoch 38/50\n",
      "100/100 [==============================] - 0s 3ms/step - loss: 0.0363 - val_loss: 0.0371\n",
      "Epoch 39/50\n",
      "100/100 [==============================] - 0s 3ms/step - loss: 0.0363 - val_loss: 0.0370\n",
      "Epoch 40/50\n",
      "100/100 [==============================] - 0s 3ms/step - loss: 0.0363 - val_loss: 0.0370\n",
      "Epoch 41/50\n",
      "100/100 [==============================] - 0s 3ms/step - loss: 0.0362 - val_loss: 0.0369\n",
      "Epoch 42/50\n",
      "100/100 [==============================] - 0s 3ms/step - loss: 0.0362 - val_loss: 0.0371\n",
      "Epoch 43/50\n",
      "100/100 [==============================] - 0s 3ms/step - loss: 0.0362 - val_loss: 0.0368\n",
      "Epoch 44/50\n",
      "100/100 [==============================] - 0s 3ms/step - loss: 0.0361 - val_loss: 0.0369\n",
      "Epoch 45/50\n",
      "100/100 [==============================] - 0s 3ms/step - loss: 0.0361 - val_loss: 0.0368\n",
      "Epoch 46/50\n",
      "100/100 [==============================] - 0s 3ms/step - loss: 0.0361 - val_loss: 0.0369\n",
      "Epoch 47/50\n",
      "100/100 [==============================] - 0s 3ms/step - loss: 0.0360 - val_loss: 0.0368\n",
      "Epoch 48/50\n",
      "100/100 [==============================] - 0s 3ms/step - loss: 0.0360 - val_loss: 0.0368\n",
      "Epoch 49/50\n",
      "100/100 [==============================] - 0s 3ms/step - loss: 0.0360 - val_loss: 0.0368\n",
      "Epoch 50/50\n",
      "100/100 [==============================] - 0s 3ms/step - loss: 0.0360 - val_loss: 0.0368\n"
     ]
    }
   ],
   "source": [
    "history = TrainData(x_train, x_val, autoencoder)"
   ]
  },
  {
   "cell_type": "code",
   "execution_count": 81,
   "metadata": {},
   "outputs": [
    {
     "data": {
      "image/png": "[encoded data removed]",
      "text/plain": [
       "<Figure size 288x216 with 1 Axes>"
      ]
     },
     "metadata": {
      "needs_background": "light"
     },
     "output_type": "display_data"
    }
   ],
   "source": [
    "fig = plt.figure(figsize=(4,3))\n",
    "ax = fig.add_subplot(111)\n",
    "\n",
    "ax.plot(history.history['loss'])\n",
    "ax.plot(history.history['val_loss'])\n",
    "plt.ylabel('Loss')\n",
    "plt.xlabel('Epoch')\n",
    "plt.legend(['Train Set', 'Validation Set'], loc='upper right')\n",
    "plt.tight_layout()\n",
    "plt.show()\n",
    "#plt.savefig('history.png')"
   ]
  },
  {
   "cell_type": "code",
   "execution_count": 71,
   "metadata": {},
   "outputs": [
    {
     "name": "stdout",
     "output_type": "stream",
     "text": [
      "(99,)\n"
     ]
    },
    {
     "ename": "IndexError",
     "evalue": "too many indices for array",
     "output_type": "error",
     "traceback": [
      "\u001b[0;31m---------------------------------------------------------------------------\u001b[0m",
      "\u001b[0;31mIndexError\u001b[0m                                Traceback (most recent call last)",
      "\u001b[0;32m<ipython-input-71-8b0a426c06f5>\u001b[0m in \u001b[0;36m<module>\u001b[0;34m\u001b[0m\n\u001b[1;32m     16\u001b[0m \u001b[0;34m\u001b[0m\u001b[0m\n\u001b[1;32m     17\u001b[0m \u001b[0;34m\u001b[0m\u001b[0m\n\u001b[0;32m---> 18\u001b[0;31m \u001b[0mshow_predicted\u001b[0m\u001b[0;34m(\u001b[0m\u001b[0mtrack_index\u001b[0m\u001b[0;34m=\u001b[0m\u001b[0;36m3\u001b[0m\u001b[0;34m,\u001b[0m \u001b[0mvar_index\u001b[0m\u001b[0;34m=\u001b[0m\u001b[0;36m0\u001b[0m\u001b[0;34m)\u001b[0m\u001b[0;34m\u001b[0m\u001b[0;34m\u001b[0m\u001b[0m\n\u001b[0m",
      "\u001b[0;32m<ipython-input-71-8b0a426c06f5>\u001b[0m in \u001b[0;36mshow_predicted\u001b[0;34m(track_index, var_index, savefig)\u001b[0m\n\u001b[1;32m      5\u001b[0m \u001b[0;34m\u001b[0m\u001b[0m\n\u001b[1;32m      6\u001b[0m     \u001b[0mfig\u001b[0m \u001b[0;34m=\u001b[0m \u001b[0mplt\u001b[0m\u001b[0;34m.\u001b[0m\u001b[0mfigure\u001b[0m\u001b[0;34m(\u001b[0m\u001b[0mfigsize\u001b[0m\u001b[0;34m=\u001b[0m\u001b[0;34m(\u001b[0m\u001b[0;36m18\u001b[0m\u001b[0;34m,\u001b[0m\u001b[0;36m6\u001b[0m\u001b[0;34m)\u001b[0m\u001b[0;34m)\u001b[0m\u001b[0;34m\u001b[0m\u001b[0;34m\u001b[0m\u001b[0m\n\u001b[0;32m----> 7\u001b[0;31m     \u001b[0mplt\u001b[0m\u001b[0;34m.\u001b[0m\u001b[0mscatter\u001b[0m\u001b[0;34m(\u001b[0m\u001b[0mrange\u001b[0m\u001b[0;34m(\u001b[0m\u001b[0mpredicted\u001b[0m\u001b[0;34m.\u001b[0m\u001b[0mshape\u001b[0m\u001b[0;34m[\u001b[0m\u001b[0;36m0\u001b[0m\u001b[0;34m]\u001b[0m\u001b[0;34m)\u001b[0m\u001b[0;34m,\u001b[0m \u001b[0mpredicted\u001b[0m\u001b[0;34m[\u001b[0m\u001b[0;34m:\u001b[0m\u001b[0;34m,\u001b[0m\u001b[0mvar_index\u001b[0m\u001b[0;34m]\u001b[0m\u001b[0;34m,\u001b[0m \u001b[0mmarker\u001b[0m\u001b[0;34m=\u001b[0m\u001b[0;34m'.'\u001b[0m\u001b[0;34m)\u001b[0m\u001b[0;34m\u001b[0m\u001b[0;34m\u001b[0m\u001b[0m\n\u001b[0m\u001b[1;32m      8\u001b[0m     \u001b[0mplt\u001b[0m\u001b[0;34m.\u001b[0m\u001b[0mscatter\u001b[0m\u001b[0;34m(\u001b[0m\u001b[0mrange\u001b[0m\u001b[0;34m(\u001b[0m\u001b[0mx_test\u001b[0m\u001b[0;34m.\u001b[0m\u001b[0mshape\u001b[0m\u001b[0;34m[\u001b[0m\u001b[0;36m1\u001b[0m\u001b[0;34m]\u001b[0m\u001b[0;34m)\u001b[0m\u001b[0;34m,\u001b[0m \u001b[0mx_test\u001b[0m\u001b[0;34m[\u001b[0m\u001b[0mtrack_index\u001b[0m\u001b[0;34m,\u001b[0m\u001b[0;34m:\u001b[0m\u001b[0;34m,\u001b[0m\u001b[0mvar_index\u001b[0m\u001b[0;34m]\u001b[0m\u001b[0;34m,\u001b[0m \u001b[0mmarker\u001b[0m\u001b[0;34m=\u001b[0m\u001b[0;34m'+'\u001b[0m\u001b[0;34m)\u001b[0m\u001b[0;34m\u001b[0m\u001b[0;34m\u001b[0m\u001b[0m\n\u001b[1;32m      9\u001b[0m     \u001b[0mplt\u001b[0m\u001b[0;34m.\u001b[0m\u001b[0mlegend\u001b[0m\u001b[0;34m(\u001b[0m\u001b[0;34m(\u001b[0m\u001b[0;34m'predicted'\u001b[0m\u001b[0;34m,\u001b[0m \u001b[0;34m'true'\u001b[0m\u001b[0;34m)\u001b[0m\u001b[0;34m)\u001b[0m\u001b[0;34m\u001b[0m\u001b[0;34m\u001b[0m\u001b[0m\n",
      "\u001b[0;31mIndexError\u001b[0m: too many indices for array"
     ]
    },
    {
     "data": {
      "text/plain": [
       "<Figure size 1296x432 with 0 Axes>"
      ]
     },
     "metadata": {},
     "output_type": "display_data"
    }
   ],
   "source": [
    "def show_predicted(track_index, var_index, savefig=False):\n",
    "    predicted = test_track(data=x_test, model=autoencoder, track_index=track_index, frame_width=14)\n",
    "    print(predicted.shape)\n",
    "\n",
    "\n",
    "    fig = plt.figure(figsize=(18,6))\n",
    "    plt.scatter(range(predicted.shape[0]), predicted[:,var_index], marker='.')\n",
    "    plt.scatter(range(x_test.shape[1]), x_test[track_index,:,var_index], marker='+')\n",
    "    plt.legend(('predicted', 'true'))\n",
    "    if savefig:\n",
    "        plt.savefig('dim{}.png'.format(INDEX))\n",
    "        \n",
    "    plt.grid(b = 150)\n",
    "    plt.show()\n",
    "    \n",
    "    \n",
    "    \n",
    "show_predicted(track_index=3, var_index=0)"
   ]
  },
  {
   "cell_type": "code",
   "execution_count": null,
   "metadata": {},
   "outputs": [],
   "source": []
  },
  {
   "cell_type": "code",
   "execution_count": null,
   "metadata": {},
   "outputs": [],
   "source": []
  },
  {
   "cell_type": "code",
   "execution_count": null,
   "metadata": {},
   "outputs": [],
   "source": []
  }
 ],
 "metadata": {
  "kernelspec": {
   "display_name": "Python 3",
   "language": "python",
   "name": "python3"
  },
  "language_info": {
   "codemirror_mode": {
    "name": "ipython",
    "version": 3
   },
   "file_extension": ".py",
   "mimetype": "text/x-python",
   "name": "python",
   "nbconvert_exporter": "python",
   "pygments_lexer": "ipython3",
   "version": "3.7.4"
  }
 },
 "nbformat": 4,
 "nbformat_minor": 4
}
