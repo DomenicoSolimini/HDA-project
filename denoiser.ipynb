{
 "cells": [
  {
   "cell_type": "markdown",
   "metadata": {},
   "source": [
    "# CNN Autoencoder"
   ]
  },
  {
   "cell_type": "code",
   "execution_count": 2,
   "metadata": {},
   "outputs": [],
   "source": [
    "from keras.layers import Input, Dense#, Dropout, BatchNormalization, Reshape\n",
    "from keras.models import Model\n",
    "#from keras.regularizers import l2\n",
    "from keras.utils import plot_model\n",
    "from keras.callbacks import EarlyStopping\n",
    "\n",
    "from sklearn.model_selection import train_test_split\n",
    "\n",
    "import pickle\n",
    "import numpy as np\n",
    "#import seaborn as sns\n",
    "import matplotlib.pyplot as plt\n",
    "import os\n",
    "from mpl_toolkits.mplot3d import Axes3D"
   ]
  },
  {
   "cell_type": "code",
   "execution_count": 3,
   "metadata": {},
   "outputs": [
    {
     "ename": "FileNotFoundError",
     "evalue": "[Errno 2] No such file or directory: '/Users/federicomatteo/Downloads/track_all_correct'",
     "output_type": "error",
     "traceback": [
      "\u001b[0;31m---------------------------------------------------------------------------\u001b[0m",
      "\u001b[0;31mFileNotFoundError\u001b[0m                         Traceback (most recent call last)",
      "\u001b[0;32m<ipython-input-3-3bb86a49017d>\u001b[0m in \u001b[0;36m<module>\u001b[0;34m\u001b[0m\n\u001b[1;32m      1\u001b[0m \u001b[0mPath\u001b[0m \u001b[0;34m=\u001b[0m \u001b[0;34m'/Users/federicomatteo/Downloads/track_all_correct/'\u001b[0m\u001b[0;34m\u001b[0m\u001b[0;34m\u001b[0m\u001b[0m\n\u001b[0;32m----> 2\u001b[0;31m \u001b[0mDirList\u001b[0m \u001b[0;34m=\u001b[0m \u001b[0mos\u001b[0m\u001b[0;34m.\u001b[0m\u001b[0mlistdir\u001b[0m\u001b[0;34m(\u001b[0m\u001b[0;34m\"/Users/federicomatteo/Downloads/track_all_correct\"\u001b[0m\u001b[0;34m)\u001b[0m \u001b[0;31m# cartella\u001b[0m\u001b[0;34m\u001b[0m\u001b[0;34m\u001b[0m\u001b[0m\n\u001b[0m\u001b[1;32m      3\u001b[0m \u001b[0mMyData\u001b[0m \u001b[0;34m=\u001b[0m \u001b[0;34m[\u001b[0m\u001b[0;34m]\u001b[0m\u001b[0;34m\u001b[0m\u001b[0;34m\u001b[0m\u001b[0m\n\u001b[1;32m      4\u001b[0m \u001b[0;32mfor\u001b[0m \u001b[0mj\u001b[0m \u001b[0;32min\u001b[0m \u001b[0mrange\u001b[0m\u001b[0;34m(\u001b[0m\u001b[0mlen\u001b[0m\u001b[0;34m(\u001b[0m\u001b[0mDirList\u001b[0m\u001b[0;34m)\u001b[0m\u001b[0;34m)\u001b[0m\u001b[0;34m:\u001b[0m\u001b[0;34m\u001b[0m\u001b[0;34m\u001b[0m\u001b[0m\n\u001b[1;32m      5\u001b[0m     \u001b[0mMyData\u001b[0m\u001b[0;34m.\u001b[0m\u001b[0mappend\u001b[0m\u001b[0;34m(\u001b[0m\u001b[0mnp\u001b[0m\u001b[0;34m.\u001b[0m\u001b[0mload\u001b[0m\u001b[0;34m(\u001b[0m\u001b[0mPath\u001b[0m \u001b[0;34m+\u001b[0m \u001b[0mDirList\u001b[0m\u001b[0;34m[\u001b[0m\u001b[0mj\u001b[0m\u001b[0;34m]\u001b[0m\u001b[0;34m)\u001b[0m\u001b[0;34m)\u001b[0m\u001b[0;34m\u001b[0m\u001b[0;34m\u001b[0m\u001b[0m\n",
      "\u001b[0;31mFileNotFoundError\u001b[0m: [Errno 2] No such file or directory: '/Users/federicomatteo/Downloads/track_all_correct'"
     ]
    }
   ],
   "source": [
    "# PATH = '/Users/federicomatteo/Downloads/track_all_correct/'\n",
    "DirList = os.listdir(\"/Users/federicomatteo/Downloads/track_all_correct\") # cartella\n",
    "MyData = []\n",
    "for j in range(len(DirList)):\n",
    "    MyData.append(np.load(Path + DirList[j]))"
   ]
  },
  {
   "cell_type": "code",
   "execution_count": 3,
   "metadata": {},
   "outputs": [],
   "source": [
    "data = MyData[0][np.newaxis,:,:]\n",
    "for i in [i for i in range(1, 81) if i != 78]:\n",
    "    data = np.concatenate((data, MyData[i][np.newaxis,:,:]), axis = 0)"
   ]
  },
  {
   "cell_type": "code",
   "execution_count": 4,
   "metadata": {},
   "outputs": [],
   "source": [
    "n_total = data.shape[1]"
   ]
  },
  {
   "cell_type": "code",
   "execution_count": 5,
   "metadata": {},
   "outputs": [],
   "source": [
    "data = (data - data.min(axis=0)) / (data.max(axis=0) - data.min(axis=0))"
   ]
  },
  {
   "cell_type": "code",
   "execution_count": 6,
   "metadata": {},
   "outputs": [
    {
     "data": {
      "text/plain": [
       "[<matplotlib.lines.Line2D at 0x147705c50>]"
      ]
     },
     "execution_count": 6,
     "metadata": {},
     "output_type": "execute_result"
    },
    {
     "data": {
      "image/png": "[encoded data removed]",
      "text/plain": [
       "<Figure size 432x288 with 1 Axes>"
      ]
     },
     "metadata": {
      "needs_background": "light"
     },
     "output_type": "display_data"
    }
   ],
   "source": [
    "plt.plot(data[0,:,0])"
   ]
  },
  {
   "cell_type": "markdown",
   "metadata": {},
   "source": [
    "## Data preparation"
   ]
  },
  {
   "cell_type": "code",
   "execution_count": 35,
   "metadata": {},
   "outputs": [],
   "source": [
    "data_train, data_val = train_test_split(data, test_size=0.2, shuffle=False)"
   ]
  },
  {
   "cell_type": "code",
   "execution_count": 36,
   "metadata": {},
   "outputs": [],
   "source": [
    "data_val, data_test = data_val[0:10,:,:], data_val[11:16,:,:]"
   ]
  },
  {
   "cell_type": "code",
   "execution_count": 38,
   "metadata": {},
   "outputs": [],
   "source": [
    "def split_data(data, width, stride):\n",
    "    \n",
    "    n = data.shape[0]\n",
    "    data_ = [data[start_pos:start_pos+width,:] for start_pos in range(0, n-width+1, stride)]\n",
    "    \n",
    "    return np.stack((data_), axis=0)"
   ]
  },
  {
   "cell_type": "code",
   "execution_count": 39,
   "metadata": {},
   "outputs": [],
   "source": [
    "def MergeData(data):\n",
    "    prova = [split_data(data[i,:,:], 15, 5) for i in range(data.shape[0])]\n",
    "    prova = np.stack((prova), axis=0)\n",
    "    data_new = prova[0,:,:,:]\n",
    "    for i in range(1, prova.shape[0]):\n",
    "        data_new = np.concatenate((data_new, prova[i,:,:,:]), axis = 0)\n",
    "    return data_new"
   ]
  },
  {
   "cell_type": "code",
   "execution_count": 41,
   "metadata": {},
   "outputs": [
    {
     "name": "stdout",
     "output_type": "stream",
     "text": [
      "(6208, 15, 3)\n",
      "(970, 15, 3)\n",
      "(485, 15, 3)\n"
     ]
    }
   ],
   "source": [
    "x_train = MergeData(data_train)\n",
    "x_val = MergeData(data_val)\n",
    "x_test = MergeData(data_test)\n",
    "print(x_train.shape)\n",
    "print(x_val.shape)\n",
    "print(x_test.shape)"
   ]
  },
  {
   "cell_type": "markdown",
   "metadata": {},
   "source": [
    "## Architecture Definition"
   ]
  },
  {
   "cell_type": "code",
   "execution_count": 12,
   "metadata": {},
   "outputs": [],
   "source": [
    "from keras.layers import Conv1D, Conv2D, MaxPooling1D, UpSampling1D, Flatten, Reshape\n",
    "from keras.layers import MaxPooling2D, UpSampling2D, Conv2DTranspose"
   ]
  },
  {
   "cell_type": "code",
   "execution_count": 13,
   "metadata": {},
   "outputs": [],
   "source": [
    "# -- CNN architecture\n",
    "# This is the input placeholder\n",
    "input_seq = Input(shape=(15, 3, 1))\n",
    "\n",
    "X = Conv2D(filters = 4, kernel_size=[4,3], padding='valid', activation='tanh', strides=1)(input_seq)\n",
    "X = Reshape((12,4,))(X)\n",
    "\n",
    "X = MaxPooling1D(pool_size=2, strides=None)(X)\n",
    "\n",
    "X = Flatten()(X)\n",
    "\n",
    "encoded = Dense(6, activation='tanh')(X)\n",
    "\n",
    "X = Dense(24, activation='tanh')(encoded)\n",
    "\n",
    "X = Reshape((6, 1, 4,))(X)\n",
    "\n",
    "X = UpSampling2D(size=(2,1))(X)\n",
    "\n",
    "decoded = Conv2DTranspose(filters = 1, kernel_size = [4,3], padding='valid', activation='tanh', strides=1)(X)\n",
    "\n",
    "decoded = Reshape((15, 3, 1))(decoded)\n",
    "\n",
    "# This model maps an input to its reconstruction (hopefully denoised)\n",
    "autoencoder = Model(input_seq, decoded)\n",
    "\n",
    "autoencoder.compile(optimizer='adam', loss= \"mean_absolute_error\")"
   ]
  },
  {
   "cell_type": "code",
   "execution_count": 60,
   "metadata": {},
   "outputs": [],
   "source": [
    "# -- CNN architecture\n",
    "# This is the input placeholder\n",
    "input_seq = Input(shape=(15, 3, 1))\n",
    "\n",
    "X = Conv2D(filters = 4, kernel_size=[4,3], padding='valid', activation='tanh', strides=1)(input_seq)\n",
    "X = Reshape((12,4,))(X)\n",
    "\n",
    "X = MaxPooling1D(pool_size=2, strides=None)(X)\n",
    "\n",
    "X = Flatten()(X)\n",
    "\n",
    "encoded = Dense(6, activation='tanh')(X)\n",
    "\n",
    "X = Dense(24, activation='tanh')(encoded)\n",
    "\n",
    "X = Reshape((6, 1, 4,))(X)\n",
    "\n",
    "X = UpSampling2D(size=(2,1))(X)\n",
    "\n",
    "decoded = Conv2DTranspose(filters = 1, kernel_size = [4,3], padding='valid', activation='tanh', strides=1)(X)\n",
    "\n",
    "decoded = Reshape((15, 3, 1))(decoded)\n",
    "\n",
    "# This model maps an input to its reconstruction (hopefully denoised)\n",
    "autoencoder = Model(input_seq, decoded)\n",
    "\n",
    "autoencoder.compile(optimizer='adam', loss= \"mean_absolute_error\")"
   ]
  },
  {
   "cell_type": "code",
   "execution_count": 61,
   "metadata": {},
   "outputs": [
    {
     "name": "stdout",
     "output_type": "stream",
     "text": [
      "Model: \"model_8\"\n",
      "_________________________________________________________________\n",
      "Layer (type)                 Output Shape              Param #   \n",
      "=================================================================\n",
      "input_13 (InputLayer)        (None, 15, 3, 1)          0         \n",
      "_________________________________________________________________\n",
      "conv2d_20 (Conv2D)           (None, 12, 1, 4)          52        \n",
      "_________________________________________________________________\n",
      "reshape_38 (Reshape)         (None, 12, 4)             0         \n",
      "_________________________________________________________________\n",
      "max_pooling1d_13 (MaxPooling (None, 6, 4)              0         \n",
      "_________________________________________________________________\n",
      "flatten_13 (Flatten)         (None, 24)                0         \n",
      "_________________________________________________________________\n",
      "dense_25 (Dense)             (None, 6)                 150       \n",
      "_________________________________________________________________\n",
      "dense_26 (Dense)             (None, 24)                168       \n",
      "_________________________________________________________________\n",
      "reshape_39 (Reshape)         (None, 6, 1, 4)           0         \n",
      "_________________________________________________________________\n",
      "up_sampling2d_13 (UpSampling (None, 12, 1, 4)          0         \n",
      "_________________________________________________________________\n",
      "conv2d_transpose_13 (Conv2DT (None, 15, 3, 1)          49        \n",
      "_________________________________________________________________\n",
      "reshape_40 (Reshape)         (None, 15, 3, 1)          0         \n",
      "=================================================================\n",
      "Total params: 419\n",
      "Trainable params: 419\n",
      "Non-trainable params: 0\n",
      "_________________________________________________________________\n"
     ]
    }
   ],
   "source": [
    "autoencoder.summary()\n",
    "#plot_model(autoencoder, show_shapes=True, to_file='FFNN.png', rankdir='LR', show_layer_names=False) #TB o LR"
   ]
  },
  {
   "cell_type": "markdown",
   "metadata": {},
   "source": [
    "## Model Training"
   ]
  },
  {
   "cell_type": "code",
   "execution_count": 62,
   "metadata": {},
   "outputs": [
    {
     "name": "stdout",
     "output_type": "stream",
     "text": [
      "Train on 6208 samples, validate on 970 samples\n",
      "Epoch 1/20\n",
      "100/100 [==============================] - 2s 17ms/step - loss: 0.3319 - val_loss: 0.2283\n",
      "Epoch 2/20\n",
      "100/100 [==============================] - 2s 15ms/step - loss: 0.2120 - val_loss: 0.1926\n",
      "Epoch 3/20\n",
      "100/100 [==============================] - 2s 16ms/step - loss: 0.1552 - val_loss: 0.1187\n",
      "Epoch 4/20\n",
      "100/100 [==============================] - 2s 16ms/step - loss: 0.1004 - val_loss: 0.0916\n",
      "Epoch 5/20\n",
      "100/100 [==============================] - 2s 16ms/step - loss: 0.0851 - val_loss: 0.0819\n",
      "Epoch 6/20\n",
      "100/100 [==============================] - 2s 17ms/step - loss: 0.0774 - val_loss: 0.0761\n",
      "Epoch 7/20\n",
      "100/100 [==============================] - 2s 17ms/step - loss: 0.0724 - val_loss: 0.0720\n",
      "Epoch 8/20\n",
      "100/100 [==============================] - 2s 16ms/step - loss: 0.0688 - val_loss: 0.0688\n",
      "Epoch 9/20\n",
      "100/100 [==============================] - 2s 16ms/step - loss: 0.0658 - val_loss: 0.0660\n",
      "Epoch 10/20\n",
      "100/100 [==============================] - 2s 17ms/step - loss: 0.0632 - val_loss: 0.0635\n",
      "Epoch 11/20\n",
      "100/100 [==============================] - 2s 18ms/step - loss: 0.0608 - val_loss: 0.0611\n",
      "Epoch 12/20\n",
      "100/100 [==============================] - 2s 17ms/step - loss: 0.0585 - val_loss: 0.0587\n",
      "Epoch 13/20\n",
      "100/100 [==============================] - 2s 16ms/step - loss: 0.0562 - val_loss: 0.0564\n",
      "Epoch 14/20\n",
      "100/100 [==============================] - 2s 16ms/step - loss: 0.0540 - val_loss: 0.0542\n",
      "Epoch 15/20\n",
      "100/100 [==============================] - 2s 17ms/step - loss: 0.0519 - val_loss: 0.0523\n",
      "Epoch 16/20\n",
      "100/100 [==============================] - 2s 17ms/step - loss: 0.0502 - val_loss: 0.0508\n",
      "Epoch 17/20\n",
      "100/100 [==============================] - 2s 17ms/step - loss: 0.0489 - val_loss: 0.0496\n",
      "Epoch 18/20\n",
      "100/100 [==============================] - 2s 17ms/step - loss: 0.0478 - val_loss: 0.0487\n",
      "Epoch 19/20\n",
      "100/100 [==============================] - 2s 18ms/step - loss: 0.0470 - val_loss: 0.0479\n",
      "Epoch 20/20\n",
      "100/100 [==============================] - 2s 17ms/step - loss: 0.0463 - val_loss: 0.0472\n"
     ]
    }
   ],
   "source": [
    "es = EarlyStopping(monitor='val_loss', mode='min', verbose=1, patience=5)\n",
    "\n",
    "history = autoencoder.fit(x_train.reshape((6208, 15, 3, 1)), x_train.reshape((6208, 15, 3, 1)),\n",
    "                epochs=20, # 250\n",
    "                steps_per_epoch = 100,\n",
    "                shuffle = True,\n",
    "                batch_size=None,\n",
    "                validation_data=(x_val.reshape((970, 15, 3, 1)), x_val.reshape((970, 15, 3, 1))),\n",
    "                callbacks = [es],\n",
    "                validation_steps = 1\n",
    "               )"
   ]
  },
  {
   "cell_type": "code",
   "execution_count": 63,
   "metadata": {},
   "outputs": [
    {
     "data": {
      "image/png": "[encoded data removed]",
      "text/plain": [
       "<Figure size 288x216 with 1 Axes>"
      ]
     },
     "metadata": {
      "needs_background": "light"
     },
     "output_type": "display_data"
    }
   ],
   "source": [
    "fig = plt.figure(figsize=(4,3))\n",
    "ax = fig.add_subplot(111)\n",
    "\n",
    "ax.plot(history.history['loss'])\n",
    "ax.plot(history.history['val_loss'])\n",
    "plt.ylabel('Loss')\n",
    "plt.xlabel('Epoch')\n",
    "plt.legend(['Train Set', 'Validation Set'], loc='upper right')\n",
    "plt.tight_layout()\n",
    "plt.show()\n",
    "#plt.savefig('history.png')"
   ]
  },
  {
   "cell_type": "markdown",
   "metadata": {},
   "source": [
    "## Prediction on Test Set"
   ]
  },
  {
   "cell_type": "code",
   "execution_count": 22,
   "metadata": {},
   "outputs": [
    {
     "ename": "ValueError",
     "evalue": "cannot reshape array of size 3 into shape (1,15,3,1)",
     "output_type": "error",
     "traceback": [
      "\u001b[0;31m---------------------------------------------------------------------------\u001b[0m",
      "\u001b[0;31mValueError\u001b[0m                                Traceback (most recent call last)",
      "\u001b[0;32m<ipython-input-22-940c2634ea28>\u001b[0m in \u001b[0;36m<module>\u001b[0;34m\u001b[0m\n\u001b[1;32m      1\u001b[0m \u001b[0;32mfor\u001b[0m \u001b[0mi_predict\u001b[0m \u001b[0;32min\u001b[0m \u001b[0mrange\u001b[0m\u001b[0;34m(\u001b[0m\u001b[0;36m10\u001b[0m\u001b[0;34m)\u001b[0m\u001b[0;34m:\u001b[0m\u001b[0;34m\u001b[0m\u001b[0;34m\u001b[0m\u001b[0m\n\u001b[0;32m----> 2\u001b[0;31m     \u001b[0mx_predict\u001b[0m \u001b[0;34m=\u001b[0m \u001b[0mautoencoder\u001b[0m\u001b[0;34m.\u001b[0m\u001b[0mpredict\u001b[0m\u001b[0;34m(\u001b[0m\u001b[0mx_test\u001b[0m\u001b[0;34m[\u001b[0m\u001b[0mi_predict\u001b[0m\u001b[0;34m,\u001b[0m\u001b[0;34m:\u001b[0m\u001b[0;34m]\u001b[0m\u001b[0;34m.\u001b[0m\u001b[0mreshape\u001b[0m\u001b[0;34m(\u001b[0m\u001b[0;34m(\u001b[0m\u001b[0;36m1\u001b[0m\u001b[0;34m,\u001b[0m \u001b[0;36m15\u001b[0m\u001b[0;34m,\u001b[0m \u001b[0;36m3\u001b[0m\u001b[0;34m,\u001b[0m \u001b[0;36m1\u001b[0m\u001b[0;34m)\u001b[0m\u001b[0;34m)\u001b[0m\u001b[0;34m)\u001b[0m\u001b[0;34m.\u001b[0m\u001b[0mreshape\u001b[0m\u001b[0;34m(\u001b[0m\u001b[0;36m15\u001b[0m\u001b[0;34m,\u001b[0m\u001b[0;36m3\u001b[0m\u001b[0;34m)\u001b[0m\u001b[0;34m\u001b[0m\u001b[0;34m\u001b[0m\u001b[0m\n\u001b[0m\u001b[1;32m      3\u001b[0m \u001b[0;34m\u001b[0m\u001b[0m\n\u001b[1;32m      4\u001b[0m \u001b[0;34m\u001b[0m\u001b[0m\n\u001b[1;32m      5\u001b[0m     \u001b[0mprint\u001b[0m\u001b[0;34m(\u001b[0m\u001b[0;34m\"fig {}\"\u001b[0m\u001b[0;34m.\u001b[0m\u001b[0mformat\u001b[0m\u001b[0;34m(\u001b[0m\u001b[0mi_predict\u001b[0m \u001b[0;34m+\u001b[0m\u001b[0;36m1\u001b[0m\u001b[0;34m)\u001b[0m\u001b[0;34m)\u001b[0m\u001b[0;34m\u001b[0m\u001b[0;34m\u001b[0m\u001b[0m\n",
      "\u001b[0;31mValueError\u001b[0m: cannot reshape array of size 3 into shape (1,15,3,1)"
     ]
    }
   ],
   "source": [
    "for i_predict in range(10):\n",
    "    x_predict = autoencoder.predict(x_test[i_predict,:].reshape((1, 15, 3, 1))).reshape(15,3)\n",
    " \n",
    "\n",
    "    print(\"fig {}\".format(i_predict +1))\n",
    "    fig = plt.figure(figsize=(12,4))\n",
    "    ax = fig.add_subplot(111)\n",
    "    plt.ylabel(''); plt.xlabel('time')\n",
    "    #plt.ylim(dim)\n",
    "    ax.scatter(range(x_train.shape[1],), x_predict[:,0], marker='o')\n",
    "    ax.scatter(range(x_train.shape[1],), x_test[i_predict][:,0], marker='^')\n",
    "    \n",
    "    plt.show()"
   ]
  },
  {
   "cell_type": "code",
   "execution_count": null,
   "metadata": {},
   "outputs": [],
   "source": [
    "x_predict.shape\n",
    "data_test.shape"
   ]
  },
  {
   "cell_type": "code",
   "execution_count": null,
   "metadata": {},
   "outputs": [],
   "source": [
    "data_test.shape"
   ]
  },
  {
   "cell_type": "markdown",
   "metadata": {},
   "source": [
    "## Windows Merging"
   ]
  },
  {
   "cell_type": "code",
   "execution_count": null,
   "metadata": {},
   "outputs": [],
   "source": [
    "def comeback_to_data(x_test, fact):\n",
    "    if fact > 1:\n",
    "        return \"fact must be lower than 1\"\n",
    "    x_test_ = []\n",
    "    x_test_.append(np.array([x_test[i,:-1] for i in range(0, 15)]))\n",
    "    for j in range(1, 18):\n",
    "        x_test_.append(np.array([x_test[i,:] for i in range(int(x_test.shape[0]*j*), int(x_test.shape[0]*(j+1)*fact))]))\n",
    "      \n",
    "    return np.concatenate((x_test_), axis=1)"
   ]
  },
  {
   "cell_type": "code",
   "execution_count": null,
   "metadata": {},
   "outputs": [],
   "source": [
    "x_total = []\n",
    "for time in range(18):\n",
    "    "
   ]
  },
  {
   "cell_type": "code",
   "execution_count": null,
   "metadata": {},
   "outputs": [],
   "source": [
    "x_predict = []\n",
    "for i_predict in range(x_val.shape[0]):\n",
    "    x_predict.append(autoencoder.predict(x_val[i_predict,:].reshape((1,x_val.shape[1], 3, 1))))\n",
    "\n",
    "x_predict = np.concatenate((x_predict), axis = 0)\n",
    "\n",
    "x_predict = comeback_to_data(x_predict, 1)"
   ]
  },
  {
   "cell_type": "code",
   "execution_count": null,
   "metadata": {},
   "outputs": [],
   "source": [
    "x_train = comeback_to_data(x_train, windows**-1)\n",
    "x_test = comeback_to_data(x_test, windows**-1)\n",
    "print(x_train.shape); print(x_test.shape)"
   ]
  },
  {
   "cell_type": "markdown",
   "metadata": {},
   "source": [
    "## Final Denoised Series"
   ]
  },
  {
   "cell_type": "code",
   "execution_count": null,
   "metadata": {},
   "outputs": [],
   "source": [
    "for j in range(x_test.shape[0]):\n",
    "    dim = (0, 1)\n",
    "    fig = plt.figure(figsize=(12,4))\n",
    "    ax = fig.add_subplot(111)\n",
    "    plt.ylabel(''); plt.xlabel('time')\n",
    "    #plt.ylim(dim)\n",
    "    #ax.scatter(range(x_train.shape[1],), x_predict[j,:], marker='o')\n",
    "    ax.plot(x_predict[j,:], linewidth = 2.5, c='orange')\n",
    "    ax.scatter(range(x_train.shape[1],), x_test[j,:], marker='^')\n",
    "    ax.set_ylabel(\"distance (m)\")\n",
    "    plt.title(\"Test set n. {}\".format(j+1))"
   ]
  },
  {
   "cell_type": "code",
   "execution_count": null,
   "metadata": {},
   "outputs": [],
   "source": []
  }
 ],
 "metadata": {
  "kernelspec": {
   "display_name": "Python 3",
   "language": "python",
   "name": "python3"
  },
  "language_info": {
   "codemirror_mode": {
    "name": "ipython",
    "version": 3
   },
   "file_extension": ".py",
   "mimetype": "text/x-python",
   "name": "python",
   "nbconvert_exporter": "python",
   "pygments_lexer": "ipython3",
   "version": "3.6.9"
  }
 },
 "nbformat": 4,
 "nbformat_minor": 4
}
