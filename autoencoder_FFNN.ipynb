{
 "cells": [
  {
   "cell_type": "markdown",
   "metadata": {},
   "source": [
    "# FCNN Autoencoder"
   ]
  },
  {
   "cell_type": "code",
   "execution_count": 38,
   "metadata": {},
   "outputs": [],
   "source": [
    "from keras.layers import Input, Dense#, Dropout, BatchNormalization, Reshape\n",
    "from keras.models import Model\n",
    "#from keras.regularizers import l2\n",
    "from keras.utils import plot_model\n",
    "from keras.callbacks import EarlyStopping\n",
    "\n",
    "import pickle\n",
    "import numpy as np\n",
    "#import seaborn as sns\n",
    "import matplotlib.pyplot as plt\n",
    "from mpl_toolkits.mplot3d import Axes3D"
   ]
  },
  {
   "cell_type": "code",
   "execution_count": 39,
   "metadata": {},
   "outputs": [
    {
     "data": {
      "text/plain": [
       "(83, 179, 2)"
      ]
     },
     "execution_count": 39,
     "metadata": {},
     "output_type": "execute_result"
    }
   ],
   "source": [
    "# load the pickle file\n",
    "PATH = '../'\n",
    "\n",
    "with open(PATH+'means_array.p', 'rb') as infile:\n",
    "    means_array = pickle.load(infile)\n",
    "    \n",
    "n_frame = means_array.shape[1]\n",
    "n_total = means_array.shape[0]\n",
    "\n",
    "data = means_array[:,:,:2]\n",
    "data.shape"
   ]
  },
  {
   "cell_type": "markdown",
   "metadata": {},
   "source": [
    "## Data preparation"
   ]
  },
  {
   "cell_type": "code",
   "execution_count": 144,
   "metadata": {},
   "outputs": [
    {
     "name": "stdout",
     "output_type": "stream",
     "text": [
      "train (70, 179)\n",
      "validation (11, 179)\n",
      "test (1, 179)\n"
     ]
    }
   ],
   "source": [
    "n_train = 82\n",
    "n_test = n_total - n_train\n",
    "\n",
    "#x_train, x_test = data[:n_train,:,1], data[n_train:,:,1]\n",
    "x_train, x_validation, x_test = data[:70,:,1], data[70:81,:,1], data[81:82,:,1] \n",
    "\n",
    "x_train = x_train / 300 #- np.mean(x_train))/ np.std(x_train)**2\n",
    "x_validation = x_validation/ 300 # - np.mean(x_test))/ np.std(x_test)**2\n",
    "x_test = x_test/ 300 # - np.mean(x_test))/ np.std(x_test)**2\n",
    "\n",
    "#x_train = x_train.reshape((n_train, n_frame))\n",
    "#x_test = x_test.reshape((n_test, n_frame))\n",
    "print('train', x_train.shape)\n",
    "print('validation', x_validation.shape)\n",
    "print('test', x_test.shape)"
   ]
  },
  {
   "cell_type": "code",
   "execution_count": 145,
   "metadata": {},
   "outputs": [],
   "source": [
    "def split_data(x_test, fact):\n",
    "    if fact > 1:\n",
    "        return \"fact must be lower than 1\"\n",
    "    x_test_ = []\n",
    "    x_test_.append(np.array([x_test[i,0:int(x_test.shape[1]*fact + 1)] for i in range(0, x_test.shape[0])]))\n",
    "    for j in range(1, int(fact**-1)):\n",
    "        x_test_.append(np.array([x_test[i,int(x_test.shape[1]*j*fact):int(x_test.shape[1]*(j+1)*fact)]\n",
    "                             for i in range(0, x_test.shape[0])]))\n",
    "      \n",
    "    return np.concatenate((x_test_), axis=0)"
   ]
  },
  {
   "cell_type": "code",
   "execution_count": 146,
   "metadata": {},
   "outputs": [],
   "source": [
    "def split_data(x_test, fact):\n",
    "    if fact > 1:\n",
    "        return \"fact must be lower than 1\"\n",
    "    x_test_ = []\n",
    "    x_test_.append(np.array([x_test[i,0:int(x_test.shape[1]*fact + 1)] for i in range(0, x_test.shape[0])]))\n",
    "    for j in range(1, int(fact**-1)):\n",
    "        x_test_.append(np.array([x_test[i,int(x_test.shape[1]*j*fact):int(x_test.shape[1]*(j+1)*fact)]\n",
    "                             for i in range(0, x_test.shape[0])]))\n",
    "      \n",
    "    return np.concatenate((x_test_), axis=0)"
   ]
  },
  {
   "cell_type": "code",
   "execution_count": 147,
   "metadata": {},
   "outputs": [],
   "source": [
    "windows = 5"
   ]
  },
  {
   "cell_type": "code",
   "execution_count": 148,
   "metadata": {},
   "outputs": [
    {
     "name": "stdout",
     "output_type": "stream",
     "text": [
      "(350, 36)\n",
      "(55, 36)\n",
      "(5, 36)\n"
     ]
    }
   ],
   "source": [
    "x_train = split_data(x_train, windows**-1)\n",
    "x_validation = split_data(x_validation, windows**-1)\n",
    "x_test = split_data(x_test, windows**-1)\n",
    "\n",
    "print(x_train.shape)\n",
    "print(x_validation.shape)\n",
    "print(x_test.shape)"
   ]
  },
  {
   "cell_type": "markdown",
   "metadata": {},
   "source": [
    "## Architecture Definition"
   ]
  },
  {
   "cell_type": "code",
   "execution_count": 149,
   "metadata": {},
   "outputs": [],
   "source": [
    "# -- FFNN ARCHITECTURE --\n",
    "\n",
    "input_seq = Input(shape=(int(x_train.shape[1]),))\n",
    "X = Dense(12, activation='tanh')(input_seq)\n",
    "# \"encoded\" is the encoded representation of the input\n",
    "encoded = Dense(6, activation='tanh')(X)\n",
    "X = Dense(12, activation='tanh')(encoded)\n",
    "# \"decoded\" is the lossy reconstruction of the input\n",
    "decoded = Dense(int(x_train.shape[1]), activation='tanh')(X) #, activity_regularizer=l2(0.001)\n",
    "\n",
    "# This model maps an input to its reconstruction (hopefully denoised)\n",
    "autoencoder = Model(input_seq, decoded)\n",
    "autoencoder.compile(optimizer='adam', loss= \"mean_absolute_error\")"
   ]
  },
  {
   "cell_type": "code",
   "execution_count": 150,
   "metadata": {},
   "outputs": [
    {
     "name": "stdout",
     "output_type": "stream",
     "text": [
      "_________________________________________________________________\n",
      "Layer (type)                 Output Shape              Param #   \n",
      "=================================================================\n",
      "input_8 (InputLayer)         (None, 36)                0         \n",
      "_________________________________________________________________\n",
      "dense_29 (Dense)             (None, 12)                444       \n",
      "_________________________________________________________________\n",
      "dense_30 (Dense)             (None, 6)                 78        \n",
      "_________________________________________________________________\n",
      "dense_31 (Dense)             (None, 12)                84        \n",
      "_________________________________________________________________\n",
      "dense_32 (Dense)             (None, 36)                468       \n",
      "=================================================================\n",
      "Total params: 1,074\n",
      "Trainable params: 1,074\n",
      "Non-trainable params: 0\n",
      "_________________________________________________________________\n"
     ]
    }
   ],
   "source": [
    "autoencoder.summary()\n",
    "plot_model(autoencoder, show_shapes=True, to_file='FFNN.png', rankdir='LR', show_layer_names=False) #TB o LR"
   ]
  },
  {
   "cell_type": "markdown",
   "metadata": {},
   "source": [
    "## Model Training"
   ]
  },
  {
   "cell_type": "code",
   "execution_count": 151,
   "metadata": {
    "scrolled": true
   },
   "outputs": [
    {
     "name": "stdout",
     "output_type": "stream",
     "text": [
      "Train on 350 samples, validate on 55 samples\n",
      "Epoch 1/150\n",
      "100/100 [==============================] - 2s 17ms/step - loss: 0.1833 - val_loss: 0.0680\n",
      "Epoch 2/150\n",
      "100/100 [==============================] - 0s 3ms/step - loss: 0.0430 - val_loss: 0.0340\n",
      "Epoch 3/150\n",
      "100/100 [==============================] - 0s 4ms/step - loss: 0.0304 - val_loss: 0.0288\n",
      "Epoch 4/150\n",
      "100/100 [==============================] - 0s 4ms/step - loss: 0.0259 - val_loss: 0.0241\n",
      "Epoch 5/150\n",
      "100/100 [==============================] - 0s 3ms/step - loss: 0.0223 - val_loss: 0.0215\n",
      "Epoch 6/150\n",
      "100/100 [==============================] - 0s 3ms/step - loss: 0.0207 - val_loss: 0.0204\n",
      "Epoch 7/150\n",
      "100/100 [==============================] - 0s 4ms/step - loss: 0.0200 - val_loss: 0.0199\n",
      "Epoch 8/150\n",
      "100/100 [==============================] - 0s 4ms/step - loss: 0.0196 - val_loss: 0.0195\n",
      "Epoch 9/150\n",
      "100/100 [==============================] - 0s 3ms/step - loss: 0.0193 - val_loss: 0.0192\n",
      "Epoch 10/150\n",
      "100/100 [==============================] - 0s 3ms/step - loss: 0.0190 - val_loss: 0.0190\n",
      "Epoch 11/150\n",
      "100/100 [==============================] - 0s 3ms/step - loss: 0.0188 - val_loss: 0.0188\n",
      "Epoch 12/150\n",
      "100/100 [==============================] - 0s 3ms/step - loss: 0.0186 - val_loss: 0.0185\n",
      "Epoch 13/150\n",
      "100/100 [==============================] - 0s 3ms/step - loss: 0.0183 - val_loss: 0.0183\n",
      "Epoch 14/150\n",
      "100/100 [==============================] - 0s 3ms/step - loss: 0.0181 - val_loss: 0.0181\n",
      "Epoch 15/150\n",
      "100/100 [==============================] - 0s 3ms/step - loss: 0.0178 - val_loss: 0.0179\n",
      "Epoch 16/150\n",
      "100/100 [==============================] - 0s 3ms/step - loss: 0.0176 - val_loss: 0.0177\n",
      "Epoch 17/150\n",
      "100/100 [==============================] - 0s 3ms/step - loss: 0.0173 - val_loss: 0.0175\n",
      "Epoch 18/150\n",
      "100/100 [==============================] - 0s 3ms/step - loss: 0.0171 - val_loss: 0.0173\n",
      "Epoch 19/150\n",
      "100/100 [==============================] - 0s 3ms/step - loss: 0.0169 - val_loss: 0.0172\n",
      "Epoch 20/150\n",
      "100/100 [==============================] - 0s 3ms/step - loss: 0.0166 - val_loss: 0.0170\n",
      "Epoch 21/150\n",
      "100/100 [==============================] - 0s 3ms/step - loss: 0.0165 - val_loss: 0.0169\n",
      "Epoch 22/150\n",
      "100/100 [==============================] - 0s 3ms/step - loss: 0.0163 - val_loss: 0.0168\n",
      "Epoch 23/150\n",
      "100/100 [==============================] - 0s 3ms/step - loss: 0.0161 - val_loss: 0.0166\n",
      "Epoch 24/150\n",
      "100/100 [==============================] - 0s 3ms/step - loss: 0.0160 - val_loss: 0.0165\n",
      "Epoch 25/150\n",
      "100/100 [==============================] - 0s 3ms/step - loss: 0.0159 - val_loss: 0.0164\n",
      "Epoch 26/150\n",
      "100/100 [==============================] - 0s 3ms/step - loss: 0.0158 - val_loss: 0.0163\n",
      "Epoch 27/150\n",
      "100/100 [==============================] - 0s 3ms/step - loss: 0.0157 - val_loss: 0.0162\n",
      "Epoch 28/150\n",
      "100/100 [==============================] - 0s 3ms/step - loss: 0.0157 - val_loss: 0.0161\n",
      "Epoch 29/150\n",
      "100/100 [==============================] - 0s 3ms/step - loss: 0.0156 - val_loss: 0.0160\n",
      "Epoch 30/150\n",
      "100/100 [==============================] - 0s 3ms/step - loss: 0.0155 - val_loss: 0.0160\n",
      "Epoch 31/150\n",
      "100/100 [==============================] - 0s 3ms/step - loss: 0.0155 - val_loss: 0.0159\n",
      "Epoch 32/150\n",
      "100/100 [==============================] - 0s 4ms/step - loss: 0.0154 - val_loss: 0.0159\n",
      "Epoch 33/150\n",
      "100/100 [==============================] - 0s 4ms/step - loss: 0.0154 - val_loss: 0.0157\n",
      "Epoch 34/150\n",
      "100/100 [==============================] - 0s 4ms/step - loss: 0.0153 - val_loss: 0.0157\n",
      "Epoch 35/150\n",
      "100/100 [==============================] - 0s 3ms/step - loss: 0.0153 - val_loss: 0.0157\n",
      "Epoch 36/150\n",
      "100/100 [==============================] - 0s 3ms/step - loss: 0.0152 - val_loss: 0.0156\n",
      "Epoch 37/150\n",
      "100/100 [==============================] - 0s 3ms/step - loss: 0.0152 - val_loss: 0.0155\n",
      "Epoch 38/150\n",
      "100/100 [==============================] - 0s 3ms/step - loss: 0.0152 - val_loss: 0.0155\n",
      "Epoch 39/150\n",
      "100/100 [==============================] - 0s 3ms/step - loss: 0.0151 - val_loss: 0.0155\n",
      "Epoch 40/150\n",
      "100/100 [==============================] - 0s 3ms/step - loss: 0.0151 - val_loss: 0.0154\n",
      "Epoch 41/150\n",
      "100/100 [==============================] - 0s 3ms/step - loss: 0.0151 - val_loss: 0.0154\n",
      "Epoch 42/150\n",
      "100/100 [==============================] - 0s 3ms/step - loss: 0.0150 - val_loss: 0.0153\n",
      "Epoch 43/150\n",
      "100/100 [==============================] - 0s 3ms/step - loss: 0.0150 - val_loss: 0.0153\n",
      "Epoch 44/150\n",
      "100/100 [==============================] - 0s 3ms/step - loss: 0.0150 - val_loss: 0.0153\n",
      "Epoch 45/150\n",
      "100/100 [==============================] - 0s 3ms/step - loss: 0.0150 - val_loss: 0.0153\n",
      "Epoch 46/150\n",
      "100/100 [==============================] - 0s 3ms/step - loss: 0.0149 - val_loss: 0.0152\n",
      "Epoch 47/150\n",
      "100/100 [==============================] - 0s 3ms/step - loss: 0.0149 - val_loss: 0.0153\n",
      "Epoch 48/150\n",
      "100/100 [==============================] - 0s 3ms/step - loss: 0.0149 - val_loss: 0.0152\n",
      "Epoch 49/150\n",
      "100/100 [==============================] - 0s 3ms/step - loss: 0.0149 - val_loss: 0.0151\n",
      "Epoch 50/150\n",
      "100/100 [==============================] - 0s 3ms/step - loss: 0.0149 - val_loss: 0.0152\n",
      "Epoch 51/150\n",
      "100/100 [==============================] - 0s 3ms/step - loss: 0.0149 - val_loss: 0.0152\n",
      "Epoch 52/150\n",
      "100/100 [==============================] - 0s 3ms/step - loss: 0.0148 - val_loss: 0.0151\n",
      "Epoch 53/150\n",
      "100/100 [==============================] - 0s 3ms/step - loss: 0.0148 - val_loss: 0.0151\n",
      "Epoch 54/150\n",
      "100/100 [==============================] - 0s 3ms/step - loss: 0.0148 - val_loss: 0.0151\n",
      "Epoch 55/150\n",
      "100/100 [==============================] - 0s 3ms/step - loss: 0.0148 - val_loss: 0.0150\n",
      "Epoch 56/150\n",
      "100/100 [==============================] - 0s 4ms/step - loss: 0.0148 - val_loss: 0.0150\n",
      "Epoch 57/150\n",
      "100/100 [==============================] - 0s 3ms/step - loss: 0.0148 - val_loss: 0.0150\n",
      "Epoch 58/150\n",
      "100/100 [==============================] - 0s 3ms/step - loss: 0.0148 - val_loss: 0.0150\n",
      "Epoch 59/150\n",
      "100/100 [==============================] - 0s 3ms/step - loss: 0.0147 - val_loss: 0.0149\n",
      "Epoch 60/150\n",
      "100/100 [==============================] - 0s 3ms/step - loss: 0.0147 - val_loss: 0.0149\n",
      "Epoch 61/150\n",
      "100/100 [==============================] - 0s 3ms/step - loss: 0.0147 - val_loss: 0.0150\n",
      "Epoch 62/150\n",
      "100/100 [==============================] - 0s 3ms/step - loss: 0.0147 - val_loss: 0.0149\n",
      "Epoch 63/150\n",
      "100/100 [==============================] - 0s 3ms/step - loss: 0.0147 - val_loss: 0.0150\n",
      "Epoch 64/150\n",
      "100/100 [==============================] - 0s 3ms/step - loss: 0.0147 - val_loss: 0.0149\n",
      "Epoch 65/150\n",
      "100/100 [==============================] - 0s 3ms/step - loss: 0.0147 - val_loss: 0.0149\n",
      "Epoch 66/150\n",
      "100/100 [==============================] - 0s 3ms/step - loss: 0.0147 - val_loss: 0.0149\n",
      "Epoch 67/150\n",
      "100/100 [==============================] - 0s 3ms/step - loss: 0.0147 - val_loss: 0.0149\n",
      "Epoch 68/150\n",
      "100/100 [==============================] - 0s 3ms/step - loss: 0.0146 - val_loss: 0.0149\n",
      "Epoch 69/150\n",
      "100/100 [==============================] - 0s 3ms/step - loss: 0.0146 - val_loss: 0.0149\n",
      "Epoch 70/150\n",
      "100/100 [==============================] - 0s 3ms/step - loss: 0.0146 - val_loss: 0.0149\n",
      "Epoch 71/150\n",
      "100/100 [==============================] - 0s 3ms/step - loss: 0.0146 - val_loss: 0.0148\n",
      "Epoch 72/150\n",
      "100/100 [==============================] - 0s 3ms/step - loss: 0.0146 - val_loss: 0.0148\n",
      "Epoch 73/150\n",
      "100/100 [==============================] - 0s 4ms/step - loss: 0.0146 - val_loss: 0.0149\n",
      "Epoch 74/150\n",
      "100/100 [==============================] - 0s 3ms/step - loss: 0.0146 - val_loss: 0.0148\n",
      "Epoch 75/150\n",
      "100/100 [==============================] - 0s 3ms/step - loss: 0.0146 - val_loss: 0.0149\n",
      "Epoch 76/150\n",
      "100/100 [==============================] - 0s 3ms/step - loss: 0.0146 - val_loss: 0.0148\n",
      "Epoch 77/150\n",
      "100/100 [==============================] - 0s 4ms/step - loss: 0.0146 - val_loss: 0.0148\n",
      "Epoch 78/150\n",
      "100/100 [==============================] - 0s 3ms/step - loss: 0.0146 - val_loss: 0.0148\n",
      "Epoch 79/150\n",
      "100/100 [==============================] - 0s 3ms/step - loss: 0.0146 - val_loss: 0.0148\n",
      "Epoch 80/150\n",
      "100/100 [==============================] - 0s 3ms/step - loss: 0.0146 - val_loss: 0.0148\n"
     ]
    },
    {
     "name": "stdout",
     "output_type": "stream",
     "text": [
      "Epoch 81/150\n",
      "100/100 [==============================] - 0s 3ms/step - loss: 0.0146 - val_loss: 0.0148\n",
      "Epoch 82/150\n",
      "100/100 [==============================] - 0s 3ms/step - loss: 0.0146 - val_loss: 0.0148\n",
      "Epoch 83/150\n",
      "100/100 [==============================] - 0s 3ms/step - loss: 0.0146 - val_loss: 0.0148\n",
      "Epoch 84/150\n",
      "100/100 [==============================] - 0s 4ms/step - loss: 0.0145 - val_loss: 0.0148\n",
      "Epoch 85/150\n",
      "100/100 [==============================] - 0s 3ms/step - loss: 0.0145 - val_loss: 0.0148\n",
      "Epoch 00085: early stopping\n"
     ]
    }
   ],
   "source": [
    "es = EarlyStopping(monitor='val_loss', mode='min', verbose=1, patience=5)\n",
    "\n",
    "history = autoencoder.fit(x_train, x_train,\n",
    "                epochs=150,\n",
    "                steps_per_epoch=100,\n",
    "                shuffle=True,\n",
    "                batch_size=None,\n",
    "                validation_data=(x_validation, x_validation), \n",
    "                validation_steps = 1,\n",
    "                callbacks=[es]\n",
    "               )"
   ]
  },
  {
   "cell_type": "code",
   "execution_count": 152,
   "metadata": {},
   "outputs": [
    {
     "data": {
      "image/png": "[encoded data removed]",
      "text/plain": [
       "<Figure size 288x216 with 1 Axes>"
      ]
     },
     "metadata": {
      "needs_background": "light"
     },
     "output_type": "display_data"
    }
   ],
   "source": [
    "fig = plt.figure(figsize=(4,3))\n",
    "ax = fig.add_subplot(111)\n",
    "\n",
    "ax.plot(history.history['loss'])\n",
    "ax.plot(history.history['val_loss'])\n",
    "ax.set_ylim((0.013,0.02))\n",
    "plt.ylabel('Loss')\n",
    "plt.xlabel('Epoch')\n",
    "plt.legend(['Train Set', 'Validation Set'], loc='upper right')\n",
    "plt.tight_layout()\n",
    "plt.show()\n",
    "#plt.savefig('history.png')"
   ]
  },
  {
   "cell_type": "markdown",
   "metadata": {},
   "source": [
    "## Prediction on Test Set"
   ]
  },
  {
   "cell_type": "code",
   "execution_count": 153,
   "metadata": {
    "scrolled": true
   },
   "outputs": [
    {
     "name": "stdout",
     "output_type": "stream",
     "text": [
      "fig 1\n"
     ]
    },
    {
     "data": {
      "image/png": "[encoded data removed]",
      "text/plain": [
       "<Figure size 864x288 with 1 Axes>"
      ]
     },
     "metadata": {
      "needs_background": "light"
     },
     "output_type": "display_data"
    },
    {
     "name": "stdout",
     "output_type": "stream",
     "text": [
      "fig 2\n"
     ]
    },
    {
     "data": {
      "image/png": "[encoded data removed]",
      "text/plain": [
       "<Figure size 864x288 with 1 Axes>"
      ]
     },
     "metadata": {
      "needs_background": "light"
     },
     "output_type": "display_data"
    },
    {
     "name": "stdout",
     "output_type": "stream",
     "text": [
      "fig 3\n"
     ]
    },
    {
     "data": {
      "image/png": "[encoded data removed]",
      "text/plain": [
       "<Figure size 864x288 with 1 Axes>"
      ]
     },
     "metadata": {
      "needs_background": "light"
     },
     "output_type": "display_data"
    },
    {
     "name": "stdout",
     "output_type": "stream",
     "text": [
      "fig 4\n"
     ]
    },
    {
     "data": {
      "image/png": "[encoded data removed]",
      "text/plain": [
       "<Figure size 864x288 with 1 Axes>"
      ]
     },
     "metadata": {
      "needs_background": "light"
     },
     "output_type": "display_data"
    },
    {
     "name": "stdout",
     "output_type": "stream",
     "text": [
      "fig 5\n"
     ]
    },
    {
     "data": {
      "image/png": "[encoded data removed]",
      "text/plain": [
       "<Figure size 864x288 with 1 Axes>"
      ]
     },
     "metadata": {
      "needs_background": "light"
     },
     "output_type": "display_data"
    }
   ],
   "source": [
    "for i_predict in range(int(x_test.shape[0])):\n",
    "    x_predict = autoencoder.predict(x_test[i_predict,:].reshape((1,x_train.shape[1])))\n",
    "\n",
    "    print(\"fig {}\".format(i_predict +1))\n",
    "    fig = plt.figure(figsize=(12,4))\n",
    "    ax = fig.add_subplot(111)\n",
    "    plt.ylabel(''); plt.xlabel('time')\n",
    "    ax.scatter(range(x_train.shape[1],), x_predict, marker='o')\n",
    "    ax.scatter(range(x_train.shape[1],), x_test[i_predict, :], marker='^')\n",
    "    \n",
    "    plt.show()"
   ]
  },
  {
   "cell_type": "markdown",
   "metadata": {},
   "source": [
    "## Windows Merging"
   ]
  },
  {
   "cell_type": "code",
   "execution_count": 154,
   "metadata": {},
   "outputs": [],
   "source": [
    "def comeback_to_data(x_test, fact):\n",
    "    if fact > 1:\n",
    "        return \"fact must be lower than 1\"\n",
    "    x_test_ = []\n",
    "    x_test_.append(np.array([x_test[i,:-1] for i in range(0, int(x_test.shape[0]/windows))]))\n",
    "    for j in range(1, int(fact**-1)):\n",
    "        x_test_.append(np.array([x_test[i,:] for i in range(int(x_test.shape[0]*j*fact), int(x_test.shape[0]*(j+1)*fact))]))\n",
    "      \n",
    "    return np.concatenate((x_test_), axis=1)"
   ]
  },
  {
   "cell_type": "code",
   "execution_count": 155,
   "metadata": {},
   "outputs": [
    {
     "name": "stdout",
     "output_type": "stream",
     "text": [
      "(1, 179)\n"
     ]
    }
   ],
   "source": [
    "x_predict = []\n",
    "for i_predict in range(x_test.shape[0]):\n",
    "    x_predict.append(autoencoder.predict(x_test[i_predict,:].reshape((1,x_train.shape[1]))))\n",
    "\n",
    "x_predict = np.concatenate((x_predict), axis = 0)\n",
    "\n",
    "x_predict = comeback_to_data(x_predict, windows**-1)\n",
    "print(x_predict.shape)"
   ]
  },
  {
   "cell_type": "code",
   "execution_count": 156,
   "metadata": {},
   "outputs": [
    {
     "name": "stdout",
     "output_type": "stream",
     "text": [
      "(70, 179)\n",
      "(1, 179)\n"
     ]
    }
   ],
   "source": [
    "x_train = comeback_to_data(x_train, windows**-1)\n",
    "x_test = comeback_to_data(x_test, windows**-1)\n",
    "print(x_train.shape); print(x_test.shape)"
   ]
  },
  {
   "cell_type": "markdown",
   "metadata": {},
   "source": [
    "## Final Denoised Series"
   ]
  },
  {
   "cell_type": "code",
   "execution_count": 157,
   "metadata": {},
   "outputs": [
    {
     "data": {
      "image/png": "[encoded data removed]",
      "text/plain": [
       "<Figure size 864x288 with 1 Axes>"
      ]
     },
     "metadata": {
      "needs_background": "light"
     },
     "output_type": "display_data"
    }
   ],
   "source": [
    "for j in range(x_test.shape[0]):\n",
    "    dim = (0, 1)\n",
    "    fig = plt.figure(figsize=(12,4))\n",
    "    ax = fig.add_subplot(111)\n",
    "    plt.ylabel(''); plt.xlabel('time')\n",
    "    #plt.ylim(dim)\n",
    "    #ax.scatter(range(x_train.shape[1],), x_predict[j,:], marker='o')\n",
    "    ax.plot(x_predict[j,:], linewidth = 2.5, c='orange')\n",
    "    ax.scatter(range(x_train.shape[1],), x_test[j,:], marker='^')\n",
    "    ax.set_ylabel(\"distance (m)\")\n",
    "    plt.title(\"Test set n. {}\".format(j+1))"
   ]
  }
 ],
 "metadata": {
  "kernelspec": {
   "display_name": "Python 3",
   "language": "python",
   "name": "python3"
  },
  "language_info": {
   "codemirror_mode": {
    "name": "ipython",
    "version": 3
   },
   "file_extension": ".py",
   "mimetype": "text/x-python",
   "name": "python",
   "nbconvert_exporter": "python",
   "pygments_lexer": "ipython3",
   "version": "3.7.1"
  }
 },
 "nbformat": 4,
 "nbformat_minor": 2
}
