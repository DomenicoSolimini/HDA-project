{
 "cells": [
  {
   "cell_type": "code",
   "execution_count": 2,
   "metadata": {},
   "outputs": [],
   "source": [
    "from keras.layers import Input, Dense \n",
    "# from keras.layers import Dropout, BatchNormalization, Reshape\n",
    "from keras.models import Model\n",
    "#from keras.regularizers import l2\n",
    "from keras.utils import plot_model\n",
    "from keras.callbacks import EarlyStopping\n",
    "# from sklearn.model_selection import train_test_split\n",
    "import pickle\n",
    "import numpy as np\n",
    "#import seaborn as sns\n",
    "import matplotlib.pyplot as plt\n",
    "import os\n",
    "# from mpl_toolkits.mplot3d import Axes3D"
   ]
  },
  {
   "cell_type": "code",
   "execution_count": 3,
   "metadata": {},
   "outputs": [],
   "source": [
    "# PATH = '/Users/federicomatteo/Downloads/track_all_correct/'\n",
    "PATH = './all_tracks/'\n",
    "SHAPE = (496, 3)"
   ]
  },
  {
   "cell_type": "code",
   "execution_count": 107,
   "metadata": {},
   "outputs": [],
   "source": [
    "def import_data(data_path, shape=None, axis=0):\n",
    "    \"\"\"\n",
    "    Import data stored in a folder identified by its path.\n",
    "    Return a numpy array containing all the array present in the folder of specified shape \n",
    "    stacked along the specified axis. If shape is None, the shape of the first element is used.\n",
    "    \"\"\"\n",
    "    # Init container\n",
    "    MyData = []\n",
    "    # Save in a list all files present in the folder\n",
    "    DirList = os.listdir(data_path)\n",
    "    \n",
    "    # Set the shape variable\n",
    "    if shape == None:\n",
    "        shape = np.load(data_path + DirList[0]).shape\n",
    "    \n",
    "    #\n",
    "    for j in range(len(DirList)):\n",
    "        data = np.load(data_path + DirList[j])\n",
    "        if data.shape == shape:\n",
    "            MyData.append(data)\n",
    "        else:\n",
    "            print('MyData[{}] has invalid shape {}'.format(j, data.shape))\n",
    "    \n",
    "    # Stack togheter all the arrays\n",
    "    data = np.stack(MyData, axis = axis)\n",
    "        \n",
    "    return data\n",
    "\n",
    "\n",
    "\n",
    "def train_val_test_split(data, train=0.7, val=0.2):\n",
    "    \"\"\"\n",
    "    Takes in input an array formatted as (num sequences x dim1 x dim2).\n",
    "    \"\"\"\n",
    "    # Get the total sequences number\n",
    "    n_sequences = data.shape[0]\n",
    "    \n",
    "    # Set indexes to divide the sets\n",
    "    train_ind = int(n_sequences*train)\n",
    "    val_ind = train_ind + int(n_sequences*val)\n",
    "    \n",
    "    return data[:train_ind], data[train_ind:val_ind], data[val_ind:]\n",
    "\n",
    "\n",
    "\n",
    "def split(data, width=15, stride=5):\n",
    "    \"\"\"\n",
    "    Divide the sequences stored in input array in frame of assigned width shifted of 'stride'. \n",
    "    Return the frames stacked in a new array. If stride equals width, no overlap is created.\n",
    "    \"\"\"\n",
    "    # Get the total sequences number\n",
    "    n_seq = data.shape[0]\n",
    "    # Create a list of frames\n",
    "    data_ = [data[start_pos:start_pos+width,:] for start_pos in range(0, n_seq-width+1, stride)]\n",
    "    \n",
    "    return np.stack((data_), axis=0)\n",
    "\n",
    "\n",
    "\n",
    "def merge(data, width=15, stride=5):\n",
    "    \"\"\"\n",
    "    Perform the inverse respect to split(). In case of overlapping return the average of the overlapping values.\n",
    "    \"\"\"\n",
    "    assert stride <= width, \"Not defined values when merging frames\"\n",
    "    \n",
    "    data_list = data[0,:,:,:]\n",
    "    for i in range(1, prova.shape[0]):\n",
    "        data_list = np.concatenate((data_list, prova[i,:,:,:]), axis = 0)\n",
    "    return data_new\n",
    "\n",
    "\n",
    "\n",
    "def min_max_scale(data):\n",
    "    \"\"\"\n",
    "    Scale separately each component. Data has shape [num_frames, frame_width, num_components].\n",
    "    \"\"\"\n",
    "    # Keep the number of time instants\n",
    "    frame_width = data.shape[1]\n",
    "    \n",
    "    # Compute separately min and max for each component\n",
    "    min_, max_ = data.min(axis=1), data.max(axis=1)\n",
    "\n",
    "    # Broadcast min_ and max_ array to the shape of data\n",
    "    min_ = np.stack([np.tile(x, (frame_width, 1)) for x in min_])\n",
    "    max_ = np.stack([np.tile(x, (frame_width, 1)) for x in max_])\n",
    "\n",
    "    # Return normalized data\n",
    "    return (data - min_) / (max_ - min_)\n",
    "\n",
    "\n",
    "\n",
    "# scale a list of arrays\n",
    "scale_list = lambda lista: [min_max_scale(x) for x in lista]\n",
    "\n",
    "# split a list of arrays\n",
    "split_list = lambda lista: [split(x) for x in lista]"
   ]
  },
  {
   "cell_type": "code",
   "execution_count": 109,
   "metadata": {},
   "outputs": [
    {
     "name": "stdout",
     "output_type": "stream",
     "text": [
      "MyData[34] has invalid shape (459, 3)\n",
      "(80, 3)\n",
      "(80, 3)\n",
      "(80, 496, 3)\n",
      "(80, 496, 3)\n"
     ]
    },
    {
     "data": {
      "text/plain": [
       "[<matplotlib.lines.Line2D at 0x7fe82fabc3c8>]"
      ]
     },
     "execution_count": 109,
     "metadata": {},
     "output_type": "execute_result"
    },
    {
     "data": {
      "image/png": "[encoded data removed]",
      "text/plain": [
       "<Figure size 432x288 with 1 Axes>"
      ]
     },
     "metadata": {
      "needs_background": "light"
     },
     "output_type": "display_data"
    }
   ],
   "source": [
    "data = import_data(data_path=PATH, shape=SHAPE)\n",
    "data1 = scale(data)\n",
    "plt.plot(data1[0,:,0])"
   ]
  },
  {
   "cell_type": "code",
   "execution_count": null,
   "metadata": {},
   "outputs": [],
   "source": [
    "print(data.shape)\n",
    "data_train, data_val, data_test = scale_list(train_val_test_split(data))\n",
    "data_val, data_train = split_list([data_val, data_train])"
   ]
  },
  {
   "cell_type": "code",
   "execution_count": 27,
   "metadata": {},
   "outputs": [
    {
     "name": "stdout",
     "output_type": "stream",
     "text": [
      "(80, 3)\n"
     ]
    }
   ],
   "source": [
    "print(data.min(axis=1).shape)"
   ]
  },
  {
   "cell_type": "code",
   "execution_count": 26,
   "metadata": {},
   "outputs": [
    {
     "data": {
      "text/plain": [
       "[<matplotlib.lines.Line2D at 0x7fe8316737b8>]"
      ]
     },
     "execution_count": 26,
     "metadata": {},
     "output_type": "execute_result"
    },
    {
     "data": {
      "image/png": "[encoded data removed]",
      "text/plain": [
       "<Figure size 432x288 with 1 Axes>"
      ]
     },
     "metadata": {
      "needs_background": "light"
     },
     "output_type": "display_data"
    }
   ],
   "source": [
    "plt.plot(data_test[1,:,1])"
   ]
  },
  {
   "cell_type": "code",
   "execution_count": 103,
   "metadata": {},
   "outputs": [],
   "source": [
    "min_ = [[1,2,3], [4,5,6]]\n",
    "min_ = np.stack([np.tile(x, (4, 1)) for x in min_])"
   ]
  },
  {
   "cell_type": "code",
   "execution_count": 104,
   "metadata": {},
   "outputs": [
    {
     "data": {
      "text/plain": [
       "array([[[1, 2, 3],\n",
       "        [1, 2, 3],\n",
       "        [1, 2, 3],\n",
       "        [1, 2, 3]],\n",
       "\n",
       "       [[4, 5, 6],\n",
       "        [4, 5, 6],\n",
       "        [4, 5, 6],\n",
       "        [4, 5, 6]]])"
      ]
     },
     "execution_count": 104,
     "metadata": {},
     "output_type": "execute_result"
    }
   ],
   "source": [
    "min_"
   ]
  },
  {
   "cell_type": "code",
   "execution_count": null,
   "metadata": {},
   "outputs": [],
   "source": []
  }
 ],
 "metadata": {
  "kernelspec": {
   "display_name": "Python 3",
   "language": "python",
   "name": "python3"
  },
  "language_info": {
   "codemirror_mode": {
    "name": "ipython",
    "version": 3
   },
   "file_extension": ".py",
   "mimetype": "text/x-python",
   "name": "python",
   "nbconvert_exporter": "python",
   "pygments_lexer": "ipython3",
   "version": "3.6.9"
  }
 },
 "nbformat": 4,
 "nbformat_minor": 4
}
