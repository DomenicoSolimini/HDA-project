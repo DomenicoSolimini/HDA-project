{
 "cells": [
  {
   "cell_type": "markdown",
   "metadata": {},
   "source": [
    "# CNN Autoencoder"
   ]
  },
  {
   "cell_type": "code",
   "execution_count": 106,
   "metadata": {},
   "outputs": [],
   "source": [
    "from keras.layers import Input, Dense#, Dropout, BatchNormalization, Reshape\n",
    "from keras.models import Model\n",
    "#from keras.regularizers import l2\n",
    "from keras.utils import plot_model\n",
    "from keras.callbacks import EarlyStopping\n",
    "\n",
    "from sklearn.model_selection import train_test_split\n",
    "\n",
    "import pickle\n",
    "import numpy as np\n",
    "#import seaborn as sns\n",
    "import matplotlib.pyplot as plt\n",
    "import os\n",
    "from mpl_toolkits.mplot3d import Axes3D"
   ]
  },
  {
   "cell_type": "code",
   "execution_count": 107,
   "metadata": {},
   "outputs": [],
   "source": [
    "Path = '/Users/federicomatteo/Downloads/track_all_correct/'\n",
    "DirList = os.listdir(Path) # cartella\n",
    "MyData = []\n",
    "for j in range(len(DirList)):\n",
    "    MyData.append(np.load(Path + DirList[j]))"
   ]
  },
  {
   "cell_type": "code",
   "execution_count": 108,
   "metadata": {},
   "outputs": [],
   "source": [
    "data = MyData[0][np.newaxis,:,:]\n",
    "for i in [i for i in range(1, 81) if i != 78]:\n",
    "    data = np.concatenate((data, MyData[i][np.newaxis,:,:]), axis = 0)"
   ]
  },
  {
   "cell_type": "code",
   "execution_count": 109,
   "metadata": {},
   "outputs": [],
   "source": [
    "n_total = data.shape[1]"
   ]
  },
  {
   "cell_type": "code",
   "execution_count": 110,
   "metadata": {},
   "outputs": [],
   "source": [
    "data = (data - data.min(axis=0)) / (data.max(axis=0) - data.min(axis=0))"
   ]
  },
  {
   "cell_type": "code",
   "execution_count": 111,
   "metadata": {},
   "outputs": [
    {
     "data": {
      "text/plain": [
       "[<matplotlib.lines.Line2D at 0x14b4cf550>]"
      ]
     },
     "execution_count": 111,
     "metadata": {},
     "output_type": "execute_result"
    },
    {
     "data": {
      "image/png": "[encoded data removed]",
      "text/plain": [
       "<Figure size 432x288 with 1 Axes>"
      ]
     },
     "metadata": {
      "needs_background": "light"
     },
     "output_type": "display_data"
    }
   ],
   "source": [
    "plt.plot(data[0,:,0])"
   ]
  },
  {
   "cell_type": "markdown",
   "metadata": {},
   "source": [
    "## Data preparation"
   ]
  },
  {
   "cell_type": "code",
   "execution_count": 112,
   "metadata": {},
   "outputs": [],
   "source": [
    "data_train, data_val = train_test_split(data, test_size=0.2, shuffle=False)"
   ]
  },
  {
   "cell_type": "code",
   "execution_count": 113,
   "metadata": {},
   "outputs": [],
   "source": [
    "data_val, data_test = data_val[0:10,:,:], data_val[11:16,:,:]"
   ]
  },
  {
   "cell_type": "code",
   "execution_count": 114,
   "metadata": {},
   "outputs": [],
   "source": [
    "def split_data(data, width, stride):\n",
    "    \n",
    "    n = data.shape[0]\n",
    "    data_ = [data[start_pos:start_pos+width,:] for start_pos in range(0, n-width+1, stride)]\n",
    "    \n",
    "    return np.stack((data_), axis=0)"
   ]
  },
  {
   "cell_type": "code",
   "execution_count": 134,
   "metadata": {},
   "outputs": [],
   "source": [
    "def MergeData(data):\n",
    "    prova = [split_data(data[i,:,:], 15, 16) for i in range(data.shape[0])]\n",
    "    prova = np.stack((prova), axis=0)\n",
    "    data_new = prova[0,:,:,:]\n",
    "    for i in range(1, prova.shape[0]):\n",
    "        data_new = np.concatenate((data_new, prova[i,:,:,:]), axis = 0)\n",
    "    return data_new"
   ]
  },
  {
   "cell_type": "code",
   "execution_count": 135,
   "metadata": {},
   "outputs": [
    {
     "name": "stdout",
     "output_type": "stream",
     "text": [
      "(1984, 15, 3)\n",
      "(310, 15, 3)\n",
      "(155, 15, 3)\n"
     ]
    }
   ],
   "source": [
    "x_train = MergeData(data_train)\n",
    "x_val = MergeData(data_val)\n",
    "x_test = MergeData(data_test)\n",
    "print(x_train.shape)\n",
    "print(x_val.shape)\n",
    "print(x_test.shape)"
   ]
  },
  {
   "cell_type": "markdown",
   "metadata": {},
   "source": [
    "## Architecture Definition"
   ]
  },
  {
   "cell_type": "code",
   "execution_count": 136,
   "metadata": {},
   "outputs": [],
   "source": [
    "from keras.layers import Conv1D, Conv2D, MaxPooling1D, UpSampling1D, Flatten, Reshape\n",
    "from keras.layers import MaxPooling2D, UpSampling2D, Conv2DTranspose"
   ]
  },
  {
   "cell_type": "code",
   "execution_count": 137,
   "metadata": {},
   "outputs": [],
   "source": [
    "# -- CNN architecture\n",
    "# This is the input placeholder\n",
    "input_seq = Input(shape=(15, 3, 1))\n",
    "\n",
    "X = Conv2D(filters = 4, kernel_size=[4,3], padding='valid', activation='tanh', strides=1)(input_seq)\n",
    "X = Reshape((12,4,))(X)\n",
    "\n",
    "X = MaxPooling1D(pool_size=2, strides=None)(X)\n",
    "\n",
    "X = Flatten()(X)\n",
    "\n",
    "encoded = Dense(6, activation='tanh')(X)\n",
    "\n",
    "X = Dense(24, activation='tanh')(encoded)\n",
    "\n",
    "X = Reshape((6, 1, 4,))(X)\n",
    "\n",
    "X = UpSampling2D(size=(2,1))(X)\n",
    "\n",
    "decoded = Conv2DTranspose(filters = 1, kernel_size = [4,3], padding='valid', activation='tanh', strides=1)(X)\n",
    "\n",
    "decoded = Reshape((15, 3, 1))(decoded)\n",
    "\n",
    "# This model maps an input to its reconstruction (hopefully denoised)\n",
    "autoencoder = Model(input_seq, decoded)\n",
    "\n",
    "autoencoder.compile(optimizer='adam', loss= \"mean_absolute_error\")"
   ]
  },
  {
   "cell_type": "code",
   "execution_count": 138,
   "metadata": {},
   "outputs": [],
   "source": [
    "# -- CNN architecture\n",
    "# This is the input placeholder\n",
    "input_seq = Input(shape=(15, 3, 1))\n",
    "\n",
    "X = Conv2D(filters = 4, kernel_size=[4,3], padding='valid', activation='tanh', strides=1)(input_seq)\n",
    "X = Reshape((12,4,))(X)\n",
    "\n",
    "X = MaxPooling1D(pool_size=2, strides=None)(X)\n",
    "\n",
    "X = Flatten()(X)\n",
    "\n",
    "encoded = Dense(6, activation='tanh')(X)\n",
    "\n",
    "X = Dense(24, activation='tanh')(encoded)\n",
    "\n",
    "X = Reshape((6, 1, 4,))(X)\n",
    "\n",
    "X = UpSampling2D(size=(2,1))(X)\n",
    "\n",
    "\n",
    "X = Conv2DTranspose(filters = 1, kernel_size = [4,3], padding='valid', activation='tanh', strides=1)(X)\n",
    "\n",
    "\n",
    "decoded = Reshape((15, 3, 1))(X)\n",
    "\n",
    "# This model maps an input to its reconstruction (hopefully denoised)\n",
    "autoencoder = Model(input_seq, decoded)\n",
    "\n",
    "autoencoder.compile(optimizer='Nadam', loss= \"mean_absolute_error\")"
   ]
  },
  {
   "cell_type": "code",
   "execution_count": 139,
   "metadata": {},
   "outputs": [
    {
     "name": "stdout",
     "output_type": "stream",
     "text": [
      "Model: \"model_14\"\n",
      "_________________________________________________________________\n",
      "Layer (type)                 Output Shape              Param #   \n",
      "=================================================================\n",
      "input_26 (InputLayer)        (None, 15, 3, 1)          0         \n",
      "_________________________________________________________________\n",
      "conv2d_28 (Conv2D)           (None, 12, 1, 4)          52        \n",
      "_________________________________________________________________\n",
      "reshape_69 (Reshape)         (None, 12, 4)             0         \n",
      "_________________________________________________________________\n",
      "max_pooling1d_28 (MaxPooling (None, 6, 4)              0         \n",
      "_________________________________________________________________\n",
      "flatten_26 (Flatten)         (None, 24)                0         \n",
      "_________________________________________________________________\n",
      "dense_65 (Dense)             (None, 6)                 150       \n",
      "_________________________________________________________________\n",
      "dense_66 (Dense)             (None, 24)                168       \n",
      "_________________________________________________________________\n",
      "reshape_70 (Reshape)         (None, 6, 1, 4)           0         \n",
      "_________________________________________________________________\n",
      "up_sampling2d_25 (UpSampling (None, 12, 1, 4)          0         \n",
      "_________________________________________________________________\n",
      "conv2d_transpose_24 (Conv2DT (None, 15, 3, 1)          49        \n",
      "_________________________________________________________________\n",
      "reshape_71 (Reshape)         (None, 15, 3, 1)          0         \n",
      "=================================================================\n",
      "Total params: 419\n",
      "Trainable params: 419\n",
      "Non-trainable params: 0\n",
      "_________________________________________________________________\n"
     ]
    }
   ],
   "source": [
    "autoencoder.summary()\n",
    "#plot_model(autoencoder, show_shapes=True, to_file='FFNN.png', rankdir='LR', show_layer_names=False) #TB o LR"
   ]
  },
  {
   "cell_type": "markdown",
   "metadata": {},
   "source": [
    "## Model Training"
   ]
  },
  {
   "cell_type": "code",
   "execution_count": 143,
   "metadata": {},
   "outputs": [
    {
     "name": "stdout",
     "output_type": "stream",
     "text": [
      "Train on 1984 samples, validate on 310 samples\n",
      "Epoch 1/50\n",
      "100/100 [==============================] - 1s 8ms/step - loss: 0.0434 - val_loss: 0.0446\n",
      "Epoch 2/50\n",
      "100/100 [==============================] - 1s 7ms/step - loss: 0.0433 - val_loss: 0.0445\n",
      "Epoch 3/50\n",
      "100/100 [==============================] - 1s 7ms/step - loss: 0.0433 - val_loss: 0.0445\n",
      "Epoch 4/50\n",
      "100/100 [==============================] - 1s 7ms/step - loss: 0.0432 - val_loss: 0.0445\n",
      "Epoch 5/50\n",
      "100/100 [==============================] - 1s 8ms/step - loss: 0.0432 - val_loss: 0.0444\n",
      "Epoch 6/50\n",
      "100/100 [==============================] - 1s 8ms/step - loss: 0.0431 - val_loss: 0.0443\n",
      "Epoch 7/50\n",
      "100/100 [==============================] - 1s 7ms/step - loss: 0.0430 - val_loss: 0.0442\n",
      "Epoch 8/50\n",
      "100/100 [==============================] - 1s 7ms/step - loss: 0.0430 - val_loss: 0.0441\n",
      "Epoch 9/50\n",
      "100/100 [==============================] - 1s 8ms/step - loss: 0.0429 - val_loss: 0.0441\n",
      "Epoch 10/50\n",
      "100/100 [==============================] - 1s 8ms/step - loss: 0.0429 - val_loss: 0.0442\n",
      "Epoch 11/50\n",
      "100/100 [==============================] - 1s 8ms/step - loss: 0.0428 - val_loss: 0.0442\n",
      "Epoch 12/50\n",
      "100/100 [==============================] - 1s 8ms/step - loss: 0.0428 - val_loss: 0.0441\n",
      "Epoch 13/50\n",
      "100/100 [==============================] - 1s 8ms/step - loss: 0.0427 - val_loss: 0.0439\n",
      "Epoch 14/50\n",
      "100/100 [==============================] - 1s 8ms/step - loss: 0.0427 - val_loss: 0.0438\n",
      "Epoch 15/50\n",
      "100/100 [==============================] - 1s 7ms/step - loss: 0.0426 - val_loss: 0.0438\n",
      "Epoch 16/50\n",
      "100/100 [==============================] - 1s 8ms/step - loss: 0.0426 - val_loss: 0.0437\n",
      "Epoch 17/50\n",
      "100/100 [==============================] - 1s 7ms/step - loss: 0.0425 - val_loss: 0.0436\n",
      "Epoch 18/50\n",
      "100/100 [==============================] - 1s 8ms/step - loss: 0.0425 - val_loss: 0.0435\n",
      "Epoch 19/50\n",
      "100/100 [==============================] - 1s 7ms/step - loss: 0.0424 - val_loss: 0.0436\n",
      "Epoch 20/50\n",
      "100/100 [==============================] - 1s 7ms/step - loss: 0.0425 - val_loss: 0.0436\n",
      "Epoch 21/50\n",
      "100/100 [==============================] - 1s 7ms/step - loss: 0.0423 - val_loss: 0.0435\n",
      "Epoch 22/50\n",
      "100/100 [==============================] - 1s 7ms/step - loss: 0.0423 - val_loss: 0.0434\n",
      "Epoch 23/50\n",
      "100/100 [==============================] - 1s 8ms/step - loss: 0.0423 - val_loss: 0.0433\n",
      "Epoch 24/50\n",
      "100/100 [==============================] - 1s 8ms/step - loss: 0.0423 - val_loss: 0.0434\n",
      "Epoch 25/50\n",
      "100/100 [==============================] - 1s 8ms/step - loss: 0.0423 - val_loss: 0.0434\n",
      "Epoch 26/50\n",
      "100/100 [==============================] - 1s 7ms/step - loss: 0.0422 - val_loss: 0.0433\n",
      "Epoch 27/50\n",
      "100/100 [==============================] - 1s 7ms/step - loss: 0.0421 - val_loss: 0.0433\n",
      "Epoch 28/50\n",
      "100/100 [==============================] - 1s 7ms/step - loss: 0.0421 - val_loss: 0.0432\n",
      "Epoch 29/50\n",
      "100/100 [==============================] - 1s 7ms/step - loss: 0.0420 - val_loss: 0.0435\n",
      "Epoch 30/50\n",
      "100/100 [==============================] - 1s 7ms/step - loss: 0.0421 - val_loss: 0.0431\n",
      "Epoch 31/50\n",
      "100/100 [==============================] - 1s 7ms/step - loss: 0.0420 - val_loss: 0.0431\n",
      "Epoch 32/50\n",
      "100/100 [==============================] - 1s 7ms/step - loss: 0.0420 - val_loss: 0.0430\n",
      "Epoch 33/50\n",
      "100/100 [==============================] - 1s 7ms/step - loss: 0.0420 - val_loss: 0.0431\n",
      "Epoch 34/50\n",
      "100/100 [==============================] - 1s 7ms/step - loss: 0.0419 - val_loss: 0.0430\n",
      "Epoch 35/50\n",
      "100/100 [==============================] - 1s 7ms/step - loss: 0.0419 - val_loss: 0.0429\n",
      "Epoch 36/50\n",
      "100/100 [==============================] - 1s 7ms/step - loss: 0.0418 - val_loss: 0.0430\n",
      "Epoch 37/50\n",
      "100/100 [==============================] - 1s 8ms/step - loss: 0.0417 - val_loss: 0.0435\n",
      "Epoch 38/50\n",
      "100/100 [==============================] - 1s 8ms/step - loss: 0.0419 - val_loss: 0.0428\n",
      "Epoch 39/50\n",
      "100/100 [==============================] - 1s 8ms/step - loss: 0.0417 - val_loss: 0.0429\n",
      "Epoch 40/50\n",
      "100/100 [==============================] - 1s 8ms/step - loss: 0.0417 - val_loss: 0.0428\n",
      "Epoch 41/50\n",
      "100/100 [==============================] - 1s 8ms/step - loss: 0.0417 - val_loss: 0.0428\n",
      "Epoch 42/50\n",
      "100/100 [==============================] - 1s 8ms/step - loss: 0.0417 - val_loss: 0.0427\n",
      "Epoch 43/50\n",
      "100/100 [==============================] - 1s 8ms/step - loss: 0.0416 - val_loss: 0.0428\n",
      "Epoch 44/50\n",
      "100/100 [==============================] - 1s 8ms/step - loss: 0.0416 - val_loss: 0.0427\n",
      "Epoch 45/50\n",
      "100/100 [==============================] - 1s 8ms/step - loss: 0.0416 - val_loss: 0.0426\n",
      "Epoch 46/50\n",
      "100/100 [==============================] - 1s 8ms/step - loss: 0.0415 - val_loss: 0.0424\n",
      "Epoch 47/50\n",
      "100/100 [==============================] - 1s 8ms/step - loss: 0.0416 - val_loss: 0.0426\n",
      "Epoch 48/50\n",
      "100/100 [==============================] - 1s 8ms/step - loss: 0.0415 - val_loss: 0.0425\n",
      "Epoch 49/50\n",
      "100/100 [==============================] - 1s 8ms/step - loss: 0.0415 - val_loss: 0.0425\n",
      "Epoch 50/50\n",
      "100/100 [==============================] - 1s 8ms/step - loss: 0.0415 - val_loss: 0.0425\n"
     ]
    }
   ],
   "source": [
    "es = EarlyStopping(monitor='val_loss', mode='min', verbose=1, patience=5)\n",
    "\n",
    "history = autoencoder.fit(x_train.reshape((x_train.shape[0], 15, 3, 1)), x_train.reshape((x_train.shape[0], 15, 3, 1)),\n",
    "                epochs=50, # 250\n",
    "                steps_per_epoch = 100,\n",
    "                shuffle = False,\n",
    "                batch_size=None,\n",
    "                validation_data=(x_val.reshape((x_val.shape[0], 15, 3, 1)), x_val.reshape((x_val.shape[0], 15, 3, 1))),\n",
    "                callbacks = [es],\n",
    "                validation_steps = 1\n",
    "               )"
   ]
  },
  {
   "cell_type": "code",
   "execution_count": 144,
   "metadata": {},
   "outputs": [
    {
     "data": {
      "image/png": "[encoded data removed]",
      "text/plain": [
       "<Figure size 288x216 with 1 Axes>"
      ]
     },
     "metadata": {
      "needs_background": "light"
     },
     "output_type": "display_data"
    }
   ],
   "source": [
    "fig = plt.figure(figsize=(4,3))\n",
    "ax = fig.add_subplot(111)\n",
    "\n",
    "ax.plot(history.history['loss'])\n",
    "ax.plot(history.history['val_loss'])\n",
    "plt.ylabel('Loss')\n",
    "plt.xlabel('Epoch')\n",
    "plt.legend(['Train Set', 'Validation Set'], loc='upper right')\n",
    "plt.tight_layout()\n",
    "plt.show()\n",
    "#plt.savefig('history.png')"
   ]
  },
  {
   "cell_type": "markdown",
   "metadata": {},
   "source": [
    "## Prediction on Test Set"
   ]
  },
  {
   "cell_type": "code",
   "execution_count": 158,
   "metadata": {},
   "outputs": [
    {
     "name": "stdout",
     "output_type": "stream",
     "text": [
      "fig 1\n"
     ]
    },
    {
     "data": {
      "image/png": "[encoded data removed]",
      "text/plain": [
       "<Figure size 864x288 with 1 Axes>"
      ]
     },
     "metadata": {
      "needs_background": "light"
     },
     "output_type": "display_data"
    },
    {
     "name": "stdout",
     "output_type": "stream",
     "text": [
      "fig 2\n"
     ]
    },
    {
     "data": {
      "image/png": "[encoded data removed]",
      "text/plain": [
       "<Figure size 864x288 with 1 Axes>"
      ]
     },
     "metadata": {
      "needs_background": "light"
     },
     "output_type": "display_data"
    },
    {
     "name": "stdout",
     "output_type": "stream",
     "text": [
      "fig 3\n"
     ]
    },
    {
     "data": {
      "image/png": "[encoded data removed]",
      "text/plain": [
       "<Figure size 864x288 with 1 Axes>"
      ]
     },
     "metadata": {
      "needs_background": "light"
     },
     "output_type": "display_data"
    },
    {
     "name": "stdout",
     "output_type": "stream",
     "text": [
      "fig 4\n"
     ]
    },
    {
     "data": {
      "image/png": "[encoded data removed]",
      "text/plain": [
       "<Figure size 864x288 with 1 Axes>"
      ]
     },
     "metadata": {
      "needs_background": "light"
     },
     "output_type": "display_data"
    },
    {
     "name": "stdout",
     "output_type": "stream",
     "text": [
      "fig 5\n"
     ]
    },
    {
     "data": {
      "image/png": "[encoded data removed]",
      "text/plain": [
       "<Figure size 864x288 with 1 Axes>"
      ]
     },
     "metadata": {
      "needs_background": "light"
     },
     "output_type": "display_data"
    }
   ],
   "source": [
    "a = []\n",
    "for i_predict in range(5):\n",
    "    x_predict = autoencoder.predict(x_test[i_predict,:].reshape((1, 15, 3, 1))).reshape(15,3)\n",
    "    a.append(x_predict)\n",
    "    print(\"fig {}\".format(i_predict +1))\n",
    "    fig = plt.figure(figsize=(12,4))\n",
    "    ax = fig.add_subplot(111)\n",
    "    plt.ylabel(''); plt.xlabel('time')\n",
    "    #plt.ylim(dim)\n",
    "    ax.scatter(range(x_train.shape[1],), x_predict[:,0], marker='o')\n",
    "    ax.scatter(range(x_train.shape[1],), x_test[i_predict][:,0], marker='^')\n",
    "    \n",
    "    plt.show()"
   ]
  },
  {
   "cell_type": "code",
   "execution_count": 159,
   "metadata": {},
   "outputs": [],
   "source": [
    "a = np.array(a)\n",
    "a = np.concatenate((a), axis=0)"
   ]
  },
  {
   "cell_type": "code",
   "execution_count": 168,
   "metadata": {},
   "outputs": [],
   "source": [
    "b = np.concatenate(x_test, axis=0)"
   ]
  },
  {
   "cell_type": "code",
   "execution_count": 172,
   "metadata": {},
   "outputs": [
    {
     "data": {
      "text/plain": [
       "(75, 3)"
      ]
     },
     "execution_count": 172,
     "metadata": {},
     "output_type": "execute_result"
    }
   ],
   "source": [
    "a.shape"
   ]
  },
  {
   "cell_type": "code",
   "execution_count": 175,
   "metadata": {},
   "outputs": [
    {
     "data": {
      "text/plain": [
       "[<matplotlib.lines.Line2D at 0x14f95b6d0>]"
      ]
     },
     "execution_count": 175,
     "metadata": {},
     "output_type": "execute_result"
    },
    {
     "data": {
      "image/png": "[encoded data removed]",
      "text/plain": [
       "<Figure size 432x288 with 1 Axes>"
      ]
     },
     "metadata": {
      "needs_background": "light"
     },
     "output_type": "display_data"
    }
   ],
   "source": [
    "plt.plot(a[:,2])\n",
    "plt.plot(b[0:75,2])"
   ]
  },
  {
   "cell_type": "markdown",
   "metadata": {},
   "source": [
    "## Windows Merging"
   ]
  },
  {
   "cell_type": "code",
   "execution_count": 32,
   "metadata": {},
   "outputs": [],
   "source": [
    "def comeback_to_data(x_test, fact):\n",
    "    if fact > 1:\n",
    "        return \"fact must be lower than 1\"\n",
    "    x_test_ = []\n",
    "    x_test_.append(np.array([x_test[i,:-1] for i in range(0, 15)]))\n",
    "    for j in range(1, 18):\n",
    "        x_test_.append(np.array([x_test[i,:] for i in range(int(x_test.shape[0]*j), int(x_test.shape[0]*(j+1)*fact))]))\n",
    "      \n",
    "    return np.concatenate((x_test_), axis=1)"
   ]
  },
  {
   "cell_type": "code",
   "execution_count": null,
   "metadata": {},
   "outputs": [],
   "source": [
    "x_total = []\n",
    "for time in range(18):\n",
    "    "
   ]
  },
  {
   "cell_type": "code",
   "execution_count": 33,
   "metadata": {},
   "outputs": [
    {
     "ename": "IndexError",
     "evalue": "index 970 is out of bounds for axis 0 with size 970",
     "output_type": "error",
     "traceback": [
      "\u001b[0;31m---------------------------------------------------------------------------\u001b[0m",
      "\u001b[0;31mIndexError\u001b[0m                                Traceback (most recent call last)",
      "\u001b[0;32m<ipython-input-33-527bfeeff781>\u001b[0m in \u001b[0;36m<module>\u001b[0;34m\u001b[0m\n\u001b[1;32m      5\u001b[0m \u001b[0mx_predict\u001b[0m \u001b[0;34m=\u001b[0m \u001b[0mnp\u001b[0m\u001b[0;34m.\u001b[0m\u001b[0mconcatenate\u001b[0m\u001b[0;34m(\u001b[0m\u001b[0;34m(\u001b[0m\u001b[0mx_predict\u001b[0m\u001b[0;34m)\u001b[0m\u001b[0;34m,\u001b[0m \u001b[0maxis\u001b[0m \u001b[0;34m=\u001b[0m \u001b[0;36m0\u001b[0m\u001b[0;34m)\u001b[0m\u001b[0;34m\u001b[0m\u001b[0;34m\u001b[0m\u001b[0m\n\u001b[1;32m      6\u001b[0m \u001b[0;34m\u001b[0m\u001b[0m\n\u001b[0;32m----> 7\u001b[0;31m \u001b[0mx_predict\u001b[0m \u001b[0;34m=\u001b[0m \u001b[0mcomeback_to_data\u001b[0m\u001b[0;34m(\u001b[0m\u001b[0mx_predict\u001b[0m\u001b[0;34m,\u001b[0m \u001b[0;36m1\u001b[0m\u001b[0;34m)\u001b[0m\u001b[0;34m\u001b[0m\u001b[0;34m\u001b[0m\u001b[0m\n\u001b[0m",
      "\u001b[0;32m<ipython-input-32-af248dfae6b3>\u001b[0m in \u001b[0;36mcomeback_to_data\u001b[0;34m(x_test, fact)\u001b[0m\n\u001b[1;32m      5\u001b[0m     \u001b[0mx_test_\u001b[0m\u001b[0;34m.\u001b[0m\u001b[0mappend\u001b[0m\u001b[0;34m(\u001b[0m\u001b[0mnp\u001b[0m\u001b[0;34m.\u001b[0m\u001b[0marray\u001b[0m\u001b[0;34m(\u001b[0m\u001b[0;34m[\u001b[0m\u001b[0mx_test\u001b[0m\u001b[0;34m[\u001b[0m\u001b[0mi\u001b[0m\u001b[0;34m,\u001b[0m\u001b[0;34m:\u001b[0m\u001b[0;34m-\u001b[0m\u001b[0;36m1\u001b[0m\u001b[0;34m]\u001b[0m \u001b[0;32mfor\u001b[0m \u001b[0mi\u001b[0m \u001b[0;32min\u001b[0m \u001b[0mrange\u001b[0m\u001b[0;34m(\u001b[0m\u001b[0;36m0\u001b[0m\u001b[0;34m,\u001b[0m \u001b[0;36m15\u001b[0m\u001b[0;34m)\u001b[0m\u001b[0;34m]\u001b[0m\u001b[0;34m)\u001b[0m\u001b[0;34m)\u001b[0m\u001b[0;34m\u001b[0m\u001b[0;34m\u001b[0m\u001b[0m\n\u001b[1;32m      6\u001b[0m     \u001b[0;32mfor\u001b[0m \u001b[0mj\u001b[0m \u001b[0;32min\u001b[0m \u001b[0mrange\u001b[0m\u001b[0;34m(\u001b[0m\u001b[0;36m1\u001b[0m\u001b[0;34m,\u001b[0m \u001b[0;36m18\u001b[0m\u001b[0;34m)\u001b[0m\u001b[0;34m:\u001b[0m\u001b[0;34m\u001b[0m\u001b[0;34m\u001b[0m\u001b[0m\n\u001b[0;32m----> 7\u001b[0;31m         \u001b[0mx_test_\u001b[0m\u001b[0;34m.\u001b[0m\u001b[0mappend\u001b[0m\u001b[0;34m(\u001b[0m\u001b[0mnp\u001b[0m\u001b[0;34m.\u001b[0m\u001b[0marray\u001b[0m\u001b[0;34m(\u001b[0m\u001b[0;34m[\u001b[0m\u001b[0mx_test\u001b[0m\u001b[0;34m[\u001b[0m\u001b[0mi\u001b[0m\u001b[0;34m,\u001b[0m\u001b[0;34m:\u001b[0m\u001b[0;34m]\u001b[0m \u001b[0;32mfor\u001b[0m \u001b[0mi\u001b[0m \u001b[0;32min\u001b[0m \u001b[0mrange\u001b[0m\u001b[0;34m(\u001b[0m\u001b[0mint\u001b[0m\u001b[0;34m(\u001b[0m\u001b[0mx_test\u001b[0m\u001b[0;34m.\u001b[0m\u001b[0mshape\u001b[0m\u001b[0;34m[\u001b[0m\u001b[0;36m0\u001b[0m\u001b[0;34m]\u001b[0m\u001b[0;34m*\u001b[0m\u001b[0mj\u001b[0m\u001b[0;34m)\u001b[0m\u001b[0;34m,\u001b[0m \u001b[0mint\u001b[0m\u001b[0;34m(\u001b[0m\u001b[0mx_test\u001b[0m\u001b[0;34m.\u001b[0m\u001b[0mshape\u001b[0m\u001b[0;34m[\u001b[0m\u001b[0;36m0\u001b[0m\u001b[0;34m]\u001b[0m\u001b[0;34m*\u001b[0m\u001b[0;34m(\u001b[0m\u001b[0mj\u001b[0m\u001b[0;34m+\u001b[0m\u001b[0;36m1\u001b[0m\u001b[0;34m)\u001b[0m\u001b[0;34m*\u001b[0m\u001b[0mfact\u001b[0m\u001b[0;34m)\u001b[0m\u001b[0;34m)\u001b[0m\u001b[0;34m]\u001b[0m\u001b[0;34m)\u001b[0m\u001b[0;34m)\u001b[0m\u001b[0;34m\u001b[0m\u001b[0;34m\u001b[0m\u001b[0m\n\u001b[0m\u001b[1;32m      8\u001b[0m \u001b[0;34m\u001b[0m\u001b[0m\n\u001b[1;32m      9\u001b[0m     \u001b[0;32mreturn\u001b[0m \u001b[0mnp\u001b[0m\u001b[0;34m.\u001b[0m\u001b[0mconcatenate\u001b[0m\u001b[0;34m(\u001b[0m\u001b[0;34m(\u001b[0m\u001b[0mx_test_\u001b[0m\u001b[0;34m)\u001b[0m\u001b[0;34m,\u001b[0m \u001b[0maxis\u001b[0m\u001b[0;34m=\u001b[0m\u001b[0;36m1\u001b[0m\u001b[0;34m)\u001b[0m\u001b[0;34m\u001b[0m\u001b[0;34m\u001b[0m\u001b[0m\n",
      "\u001b[0;32m<ipython-input-32-af248dfae6b3>\u001b[0m in \u001b[0;36m<listcomp>\u001b[0;34m(.0)\u001b[0m\n\u001b[1;32m      5\u001b[0m     \u001b[0mx_test_\u001b[0m\u001b[0;34m.\u001b[0m\u001b[0mappend\u001b[0m\u001b[0;34m(\u001b[0m\u001b[0mnp\u001b[0m\u001b[0;34m.\u001b[0m\u001b[0marray\u001b[0m\u001b[0;34m(\u001b[0m\u001b[0;34m[\u001b[0m\u001b[0mx_test\u001b[0m\u001b[0;34m[\u001b[0m\u001b[0mi\u001b[0m\u001b[0;34m,\u001b[0m\u001b[0;34m:\u001b[0m\u001b[0;34m-\u001b[0m\u001b[0;36m1\u001b[0m\u001b[0;34m]\u001b[0m \u001b[0;32mfor\u001b[0m \u001b[0mi\u001b[0m \u001b[0;32min\u001b[0m \u001b[0mrange\u001b[0m\u001b[0;34m(\u001b[0m\u001b[0;36m0\u001b[0m\u001b[0;34m,\u001b[0m \u001b[0;36m15\u001b[0m\u001b[0;34m)\u001b[0m\u001b[0;34m]\u001b[0m\u001b[0;34m)\u001b[0m\u001b[0;34m)\u001b[0m\u001b[0;34m\u001b[0m\u001b[0;34m\u001b[0m\u001b[0m\n\u001b[1;32m      6\u001b[0m     \u001b[0;32mfor\u001b[0m \u001b[0mj\u001b[0m \u001b[0;32min\u001b[0m \u001b[0mrange\u001b[0m\u001b[0;34m(\u001b[0m\u001b[0;36m1\u001b[0m\u001b[0;34m,\u001b[0m \u001b[0;36m18\u001b[0m\u001b[0;34m)\u001b[0m\u001b[0;34m:\u001b[0m\u001b[0;34m\u001b[0m\u001b[0;34m\u001b[0m\u001b[0m\n\u001b[0;32m----> 7\u001b[0;31m         \u001b[0mx_test_\u001b[0m\u001b[0;34m.\u001b[0m\u001b[0mappend\u001b[0m\u001b[0;34m(\u001b[0m\u001b[0mnp\u001b[0m\u001b[0;34m.\u001b[0m\u001b[0marray\u001b[0m\u001b[0;34m(\u001b[0m\u001b[0;34m[\u001b[0m\u001b[0mx_test\u001b[0m\u001b[0;34m[\u001b[0m\u001b[0mi\u001b[0m\u001b[0;34m,\u001b[0m\u001b[0;34m:\u001b[0m\u001b[0;34m]\u001b[0m \u001b[0;32mfor\u001b[0m \u001b[0mi\u001b[0m \u001b[0;32min\u001b[0m \u001b[0mrange\u001b[0m\u001b[0;34m(\u001b[0m\u001b[0mint\u001b[0m\u001b[0;34m(\u001b[0m\u001b[0mx_test\u001b[0m\u001b[0;34m.\u001b[0m\u001b[0mshape\u001b[0m\u001b[0;34m[\u001b[0m\u001b[0;36m0\u001b[0m\u001b[0;34m]\u001b[0m\u001b[0;34m*\u001b[0m\u001b[0mj\u001b[0m\u001b[0;34m)\u001b[0m\u001b[0;34m,\u001b[0m \u001b[0mint\u001b[0m\u001b[0;34m(\u001b[0m\u001b[0mx_test\u001b[0m\u001b[0;34m.\u001b[0m\u001b[0mshape\u001b[0m\u001b[0;34m[\u001b[0m\u001b[0;36m0\u001b[0m\u001b[0;34m]\u001b[0m\u001b[0;34m*\u001b[0m\u001b[0;34m(\u001b[0m\u001b[0mj\u001b[0m\u001b[0;34m+\u001b[0m\u001b[0;36m1\u001b[0m\u001b[0;34m)\u001b[0m\u001b[0;34m*\u001b[0m\u001b[0mfact\u001b[0m\u001b[0;34m)\u001b[0m\u001b[0;34m)\u001b[0m\u001b[0;34m]\u001b[0m\u001b[0;34m)\u001b[0m\u001b[0;34m)\u001b[0m\u001b[0;34m\u001b[0m\u001b[0;34m\u001b[0m\u001b[0m\n\u001b[0m\u001b[1;32m      8\u001b[0m \u001b[0;34m\u001b[0m\u001b[0m\n\u001b[1;32m      9\u001b[0m     \u001b[0;32mreturn\u001b[0m \u001b[0mnp\u001b[0m\u001b[0;34m.\u001b[0m\u001b[0mconcatenate\u001b[0m\u001b[0;34m(\u001b[0m\u001b[0;34m(\u001b[0m\u001b[0mx_test_\u001b[0m\u001b[0;34m)\u001b[0m\u001b[0;34m,\u001b[0m \u001b[0maxis\u001b[0m\u001b[0;34m=\u001b[0m\u001b[0;36m1\u001b[0m\u001b[0;34m)\u001b[0m\u001b[0;34m\u001b[0m\u001b[0;34m\u001b[0m\u001b[0m\n",
      "\u001b[0;31mIndexError\u001b[0m: index 970 is out of bounds for axis 0 with size 970"
     ]
    }
   ],
   "source": [
    "x_predict = []\n",
    "for i_predict in range(x_val.shape[0]):\n",
    "    x_predict.append(autoencoder.predict(x_val[i_predict,:].reshape((1,x_val.shape[1], 3, 1))))\n",
    "\n",
    "x_predict = np.concatenate((x_predict), axis = 0)\n",
    "\n",
    "x_predict = comeback_to_data(x_predict, 1)"
   ]
  },
  {
   "cell_type": "code",
   "execution_count": 34,
   "metadata": {},
   "outputs": [
    {
     "ename": "NameError",
     "evalue": "name 'windows' is not defined",
     "output_type": "error",
     "traceback": [
      "\u001b[0;31m---------------------------------------------------------------------------\u001b[0m",
      "\u001b[0;31mNameError\u001b[0m                                 Traceback (most recent call last)",
      "\u001b[0;32m<ipython-input-34-af25f1db0ffe>\u001b[0m in \u001b[0;36m<module>\u001b[0;34m\u001b[0m\n\u001b[0;32m----> 1\u001b[0;31m \u001b[0mx_train\u001b[0m \u001b[0;34m=\u001b[0m \u001b[0mcomeback_to_data\u001b[0m\u001b[0;34m(\u001b[0m\u001b[0mx_train\u001b[0m\u001b[0;34m,\u001b[0m \u001b[0mwindows\u001b[0m\u001b[0;34m**\u001b[0m\u001b[0;34m-\u001b[0m\u001b[0;36m1\u001b[0m\u001b[0;34m)\u001b[0m\u001b[0;34m\u001b[0m\u001b[0;34m\u001b[0m\u001b[0m\n\u001b[0m\u001b[1;32m      2\u001b[0m \u001b[0mx_test\u001b[0m \u001b[0;34m=\u001b[0m \u001b[0mcomeback_to_data\u001b[0m\u001b[0;34m(\u001b[0m\u001b[0mx_test\u001b[0m\u001b[0;34m,\u001b[0m \u001b[0mwindows\u001b[0m\u001b[0;34m**\u001b[0m\u001b[0;34m-\u001b[0m\u001b[0;36m1\u001b[0m\u001b[0;34m)\u001b[0m\u001b[0;34m\u001b[0m\u001b[0;34m\u001b[0m\u001b[0m\n\u001b[1;32m      3\u001b[0m \u001b[0mprint\u001b[0m\u001b[0;34m(\u001b[0m\u001b[0mx_train\u001b[0m\u001b[0;34m.\u001b[0m\u001b[0mshape\u001b[0m\u001b[0;34m)\u001b[0m\u001b[0;34m;\u001b[0m \u001b[0mprint\u001b[0m\u001b[0;34m(\u001b[0m\u001b[0mx_test\u001b[0m\u001b[0;34m.\u001b[0m\u001b[0mshape\u001b[0m\u001b[0;34m)\u001b[0m\u001b[0;34m\u001b[0m\u001b[0;34m\u001b[0m\u001b[0m\n",
      "\u001b[0;31mNameError\u001b[0m: name 'windows' is not defined"
     ]
    }
   ],
   "source": [
    "x_train = comeback_to_data(x_train, windows**-1)\n",
    "x_test = comeback_to_data(x_test, windows**-1)\n",
    "print(x_train.shape); print(x_test.shape)"
   ]
  },
  {
   "cell_type": "markdown",
   "metadata": {},
   "source": [
    "## Final Denoised Series"
   ]
  },
  {
   "cell_type": "code",
   "execution_count": null,
   "metadata": {},
   "outputs": [],
   "source": [
    "for j in range(x_test.shape[0]):\n",
    "    dim = (0, 1)\n",
    "    fig = plt.figure(figsize=(12,4))\n",
    "    ax = fig.add_subplot(111)\n",
    "    plt.ylabel(''); plt.xlabel('time')\n",
    "    #plt.ylim(dim)\n",
    "    #ax.scatter(range(x_train.shape[1],), x_predict[j,:], marker='o')\n",
    "    ax.plot(x_predict[j,:], linewidth = 2.5, c='orange')\n",
    "    ax.scatter(range(x_train.shape[1],), x_test[j,:], marker='^')\n",
    "    ax.set_ylabel(\"distance (m)\")\n",
    "    plt.title(\"Test set n. {}\".format(j+1))"
   ]
  },
  {
   "cell_type": "code",
   "execution_count": null,
   "metadata": {},
   "outputs": [],
   "source": []
  }
 ],
 "metadata": {
  "kernelspec": {
   "display_name": "Python 3",
   "language": "python",
   "name": "python3"
  },
  "language_info": {
   "codemirror_mode": {
    "name": "ipython",
    "version": 3
   },
   "file_extension": ".py",
   "mimetype": "text/x-python",
   "name": "python",
   "nbconvert_exporter": "python",
   "pygments_lexer": "ipython3",
   "version": "3.7.4"
  }
 },
 "nbformat": 4,
 "nbformat_minor": 4
}
