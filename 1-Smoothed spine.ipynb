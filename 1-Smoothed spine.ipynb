import minisom as ms
import numpy as np
import pickle
import seaborn as sns
import matplotlib.pyplot as plt
from mpl_toolkits.mplot3d import Axes3D
import clustering as clr

PATH = '/Users/orientamento/Desktop/idrad/means_vars_finale/'
CODE = '4_040'
